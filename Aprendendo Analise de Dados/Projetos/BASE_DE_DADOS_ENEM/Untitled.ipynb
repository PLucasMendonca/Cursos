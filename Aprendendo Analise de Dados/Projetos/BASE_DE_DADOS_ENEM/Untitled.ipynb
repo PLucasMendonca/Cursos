{
 "cells": [
  {
   "cell_type": "markdown",
   "id": "f3838153",
   "metadata": {},
   "source": [
    "# Tarefas\n",
    "\n",
    "- Pesquisar base de dados do enem\n",
    "- Tirar amostra de 10% de usuarios\n",
    "- Pegar a média de todos os usuários\n",
    "- Comparar a média das notas dos homem e mulheres\n",
    "- Comparar a médias das notas dos homes negros brancos pardos e indígenas\n",
    "- Comparar a média das notas de mulheres negras brancas pardas e indígenas\n",
    "- Graficos\n",
    "- de cada materia\n"
   ]
  },
  {
   "cell_type": "code",
   "execution_count": 1,
   "id": "3cc310ea",
   "metadata": {},
   "outputs": [],
   "source": [
    "#Importando bilbiotecas\n",
    "import pandas as pd\n",
    "import numpy as np\n",
    "import seaborn as sns\n",
    "import matplotlib.pyplot as plt"
   ]
  },
  {
   "cell_type": "code",
   "execution_count": 2,
   "id": "d8afa39d",
   "metadata": {},
   "outputs": [],
   "source": [
    "#Buscando planilia\n",
    "#Foi usado o 'ISO-8859-1', por apresentar error ao usar o utf-8.\n",
    "df = pd.read_csv('MICRODADOS_ENEM_2020.csv', sep = ';', encoding = 'ISO-8859-1')"
   ]
  },
  {
   "cell_type": "code",
   "execution_count": 3,
   "id": "bf2a00dd",
   "metadata": {
    "scrolled": true
   },
   "outputs": [
    {
     "data": {
      "text/html": [
       "<div>\n",
       "<style scoped>\n",
       "    .dataframe tbody tr th:only-of-type {\n",
       "        vertical-align: middle;\n",
       "    }\n",
       "\n",
       "    .dataframe tbody tr th {\n",
       "        vertical-align: top;\n",
       "    }\n",
       "\n",
       "    .dataframe thead th {\n",
       "        text-align: right;\n",
       "    }\n",
       "</style>\n",
       "<table border=\"1\" class=\"dataframe\">\n",
       "  <thead>\n",
       "    <tr style=\"text-align: right;\">\n",
       "      <th></th>\n",
       "      <th>NU_INSCRICAO</th>\n",
       "      <th>NU_ANO</th>\n",
       "      <th>TP_FAIXA_ETARIA</th>\n",
       "      <th>TP_SEXO</th>\n",
       "      <th>TP_ESTADO_CIVIL</th>\n",
       "      <th>TP_COR_RACA</th>\n",
       "      <th>TP_NACIONALIDADE</th>\n",
       "      <th>TP_ST_CONCLUSAO</th>\n",
       "      <th>TP_ANO_CONCLUIU</th>\n",
       "      <th>TP_ESCOLA</th>\n",
       "      <th>...</th>\n",
       "      <th>Q016</th>\n",
       "      <th>Q017</th>\n",
       "      <th>Q018</th>\n",
       "      <th>Q019</th>\n",
       "      <th>Q020</th>\n",
       "      <th>Q021</th>\n",
       "      <th>Q022</th>\n",
       "      <th>Q023</th>\n",
       "      <th>Q024</th>\n",
       "      <th>Q025</th>\n",
       "    </tr>\n",
       "  </thead>\n",
       "  <tbody>\n",
       "    <tr>\n",
       "      <th>0</th>\n",
       "      <td>200006271946</td>\n",
       "      <td>2020</td>\n",
       "      <td>11</td>\n",
       "      <td>F</td>\n",
       "      <td>1</td>\n",
       "      <td>2</td>\n",
       "      <td>1</td>\n",
       "      <td>1</td>\n",
       "      <td>11</td>\n",
       "      <td>1</td>\n",
       "      <td>...</td>\n",
       "      <td>NaN</td>\n",
       "      <td>NaN</td>\n",
       "      <td>NaN</td>\n",
       "      <td>NaN</td>\n",
       "      <td>NaN</td>\n",
       "      <td>NaN</td>\n",
       "      <td>NaN</td>\n",
       "      <td>NaN</td>\n",
       "      <td>NaN</td>\n",
       "      <td>NaN</td>\n",
       "    </tr>\n",
       "    <tr>\n",
       "      <th>1</th>\n",
       "      <td>200001195856</td>\n",
       "      <td>2020</td>\n",
       "      <td>11</td>\n",
       "      <td>M</td>\n",
       "      <td>2</td>\n",
       "      <td>3</td>\n",
       "      <td>1</td>\n",
       "      <td>1</td>\n",
       "      <td>11</td>\n",
       "      <td>1</td>\n",
       "      <td>...</td>\n",
       "      <td>NaN</td>\n",
       "      <td>NaN</td>\n",
       "      <td>NaN</td>\n",
       "      <td>NaN</td>\n",
       "      <td>NaN</td>\n",
       "      <td>NaN</td>\n",
       "      <td>NaN</td>\n",
       "      <td>NaN</td>\n",
       "      <td>NaN</td>\n",
       "      <td>NaN</td>\n",
       "    </tr>\n",
       "    <tr>\n",
       "      <th>2</th>\n",
       "      <td>200001943954</td>\n",
       "      <td>2020</td>\n",
       "      <td>4</td>\n",
       "      <td>F</td>\n",
       "      <td>2</td>\n",
       "      <td>3</td>\n",
       "      <td>2</td>\n",
       "      <td>2</td>\n",
       "      <td>0</td>\n",
       "      <td>2</td>\n",
       "      <td>...</td>\n",
       "      <td>B</td>\n",
       "      <td>A</td>\n",
       "      <td>A</td>\n",
       "      <td>B</td>\n",
       "      <td>A</td>\n",
       "      <td>A</td>\n",
       "      <td>A</td>\n",
       "      <td>A</td>\n",
       "      <td>A</td>\n",
       "      <td>A</td>\n",
       "    </tr>\n",
       "    <tr>\n",
       "      <th>3</th>\n",
       "      <td>200001908998</td>\n",
       "      <td>2020</td>\n",
       "      <td>2</td>\n",
       "      <td>M</td>\n",
       "      <td>1</td>\n",
       "      <td>3</td>\n",
       "      <td>1</td>\n",
       "      <td>2</td>\n",
       "      <td>0</td>\n",
       "      <td>2</td>\n",
       "      <td>...</td>\n",
       "      <td>NaN</td>\n",
       "      <td>NaN</td>\n",
       "      <td>NaN</td>\n",
       "      <td>NaN</td>\n",
       "      <td>NaN</td>\n",
       "      <td>NaN</td>\n",
       "      <td>NaN</td>\n",
       "      <td>NaN</td>\n",
       "      <td>NaN</td>\n",
       "      <td>NaN</td>\n",
       "    </tr>\n",
       "    <tr>\n",
       "      <th>4</th>\n",
       "      <td>200001634757</td>\n",
       "      <td>2020</td>\n",
       "      <td>4</td>\n",
       "      <td>F</td>\n",
       "      <td>1</td>\n",
       "      <td>3</td>\n",
       "      <td>2</td>\n",
       "      <td>1</td>\n",
       "      <td>1</td>\n",
       "      <td>1</td>\n",
       "      <td>...</td>\n",
       "      <td>A</td>\n",
       "      <td>A</td>\n",
       "      <td>A</td>\n",
       "      <td>B</td>\n",
       "      <td>A</td>\n",
       "      <td>B</td>\n",
       "      <td>B</td>\n",
       "      <td>A</td>\n",
       "      <td>A</td>\n",
       "      <td>B</td>\n",
       "    </tr>\n",
       "    <tr>\n",
       "      <th>...</th>\n",
       "      <td>...</td>\n",
       "      <td>...</td>\n",
       "      <td>...</td>\n",
       "      <td>...</td>\n",
       "      <td>...</td>\n",
       "      <td>...</td>\n",
       "      <td>...</td>\n",
       "      <td>...</td>\n",
       "      <td>...</td>\n",
       "      <td>...</td>\n",
       "      <td>...</td>\n",
       "      <td>...</td>\n",
       "      <td>...</td>\n",
       "      <td>...</td>\n",
       "      <td>...</td>\n",
       "      <td>...</td>\n",
       "      <td>...</td>\n",
       "      <td>...</td>\n",
       "      <td>...</td>\n",
       "      <td>...</td>\n",
       "      <td>...</td>\n",
       "    </tr>\n",
       "    <tr>\n",
       "      <th>5783104</th>\n",
       "      <td>200003396891</td>\n",
       "      <td>2020</td>\n",
       "      <td>2</td>\n",
       "      <td>F</td>\n",
       "      <td>1</td>\n",
       "      <td>1</td>\n",
       "      <td>1</td>\n",
       "      <td>2</td>\n",
       "      <td>0</td>\n",
       "      <td>2</td>\n",
       "      <td>...</td>\n",
       "      <td>B</td>\n",
       "      <td>A</td>\n",
       "      <td>A</td>\n",
       "      <td>B</td>\n",
       "      <td>A</td>\n",
       "      <td>A</td>\n",
       "      <td>D</td>\n",
       "      <td>A</td>\n",
       "      <td>B</td>\n",
       "      <td>B</td>\n",
       "    </tr>\n",
       "    <tr>\n",
       "      <th>5783105</th>\n",
       "      <td>200006040822</td>\n",
       "      <td>2020</td>\n",
       "      <td>3</td>\n",
       "      <td>M</td>\n",
       "      <td>1</td>\n",
       "      <td>1</td>\n",
       "      <td>1</td>\n",
       "      <td>2</td>\n",
       "      <td>0</td>\n",
       "      <td>2</td>\n",
       "      <td>...</td>\n",
       "      <td>NaN</td>\n",
       "      <td>NaN</td>\n",
       "      <td>NaN</td>\n",
       "      <td>NaN</td>\n",
       "      <td>NaN</td>\n",
       "      <td>NaN</td>\n",
       "      <td>NaN</td>\n",
       "      <td>NaN</td>\n",
       "      <td>NaN</td>\n",
       "      <td>NaN</td>\n",
       "    </tr>\n",
       "    <tr>\n",
       "      <th>5783106</th>\n",
       "      <td>200004928656</td>\n",
       "      <td>2020</td>\n",
       "      <td>3</td>\n",
       "      <td>F</td>\n",
       "      <td>1</td>\n",
       "      <td>1</td>\n",
       "      <td>1</td>\n",
       "      <td>1</td>\n",
       "      <td>1</td>\n",
       "      <td>1</td>\n",
       "      <td>...</td>\n",
       "      <td>NaN</td>\n",
       "      <td>NaN</td>\n",
       "      <td>NaN</td>\n",
       "      <td>NaN</td>\n",
       "      <td>NaN</td>\n",
       "      <td>NaN</td>\n",
       "      <td>NaN</td>\n",
       "      <td>NaN</td>\n",
       "      <td>NaN</td>\n",
       "      <td>NaN</td>\n",
       "    </tr>\n",
       "    <tr>\n",
       "      <th>5783107</th>\n",
       "      <td>200006774808</td>\n",
       "      <td>2020</td>\n",
       "      <td>4</td>\n",
       "      <td>F</td>\n",
       "      <td>1</td>\n",
       "      <td>1</td>\n",
       "      <td>1</td>\n",
       "      <td>2</td>\n",
       "      <td>0</td>\n",
       "      <td>3</td>\n",
       "      <td>...</td>\n",
       "      <td>B</td>\n",
       "      <td>B</td>\n",
       "      <td>B</td>\n",
       "      <td>D</td>\n",
       "      <td>B</td>\n",
       "      <td>B</td>\n",
       "      <td>E</td>\n",
       "      <td>A</td>\n",
       "      <td>D</td>\n",
       "      <td>B</td>\n",
       "    </tr>\n",
       "    <tr>\n",
       "      <th>5783108</th>\n",
       "      <td>200007078230</td>\n",
       "      <td>2020</td>\n",
       "      <td>2</td>\n",
       "      <td>F</td>\n",
       "      <td>1</td>\n",
       "      <td>3</td>\n",
       "      <td>1</td>\n",
       "      <td>2</td>\n",
       "      <td>0</td>\n",
       "      <td>2</td>\n",
       "      <td>...</td>\n",
       "      <td>A</td>\n",
       "      <td>A</td>\n",
       "      <td>A</td>\n",
       "      <td>B</td>\n",
       "      <td>B</td>\n",
       "      <td>A</td>\n",
       "      <td>D</td>\n",
       "      <td>A</td>\n",
       "      <td>A</td>\n",
       "      <td>B</td>\n",
       "    </tr>\n",
       "  </tbody>\n",
       "</table>\n",
       "<p>5783109 rows × 76 columns</p>\n",
       "</div>"
      ],
      "text/plain": [
       "         NU_INSCRICAO  NU_ANO  TP_FAIXA_ETARIA TP_SEXO  TP_ESTADO_CIVIL  \\\n",
       "0        200006271946    2020               11       F                1   \n",
       "1        200001195856    2020               11       M                2   \n",
       "2        200001943954    2020                4       F                2   \n",
       "3        200001908998    2020                2       M                1   \n",
       "4        200001634757    2020                4       F                1   \n",
       "...               ...     ...              ...     ...              ...   \n",
       "5783104  200003396891    2020                2       F                1   \n",
       "5783105  200006040822    2020                3       M                1   \n",
       "5783106  200004928656    2020                3       F                1   \n",
       "5783107  200006774808    2020                4       F                1   \n",
       "5783108  200007078230    2020                2       F                1   \n",
       "\n",
       "         TP_COR_RACA  TP_NACIONALIDADE  TP_ST_CONCLUSAO  TP_ANO_CONCLUIU  \\\n",
       "0                  2                 1                1               11   \n",
       "1                  3                 1                1               11   \n",
       "2                  3                 2                2                0   \n",
       "3                  3                 1                2                0   \n",
       "4                  3                 2                1                1   \n",
       "...              ...               ...              ...              ...   \n",
       "5783104            1                 1                2                0   \n",
       "5783105            1                 1                2                0   \n",
       "5783106            1                 1                1                1   \n",
       "5783107            1                 1                2                0   \n",
       "5783108            3                 1                2                0   \n",
       "\n",
       "         TP_ESCOLA  ...  Q016  Q017  Q018 Q019  Q020 Q021  Q022  Q023  Q024  \\\n",
       "0                1  ...   NaN   NaN   NaN  NaN   NaN  NaN   NaN   NaN   NaN   \n",
       "1                1  ...   NaN   NaN   NaN  NaN   NaN  NaN   NaN   NaN   NaN   \n",
       "2                2  ...     B     A     A    B     A    A     A     A     A   \n",
       "3                2  ...   NaN   NaN   NaN  NaN   NaN  NaN   NaN   NaN   NaN   \n",
       "4                1  ...     A     A     A    B     A    B     B     A     A   \n",
       "...            ...  ...   ...   ...   ...  ...   ...  ...   ...   ...   ...   \n",
       "5783104          2  ...     B     A     A    B     A    A     D     A     B   \n",
       "5783105          2  ...   NaN   NaN   NaN  NaN   NaN  NaN   NaN   NaN   NaN   \n",
       "5783106          1  ...   NaN   NaN   NaN  NaN   NaN  NaN   NaN   NaN   NaN   \n",
       "5783107          3  ...     B     B     B    D     B    B     E     A     D   \n",
       "5783108          2  ...     A     A     A    B     B    A     D     A     A   \n",
       "\n",
       "         Q025  \n",
       "0         NaN  \n",
       "1         NaN  \n",
       "2           A  \n",
       "3         NaN  \n",
       "4           B  \n",
       "...       ...  \n",
       "5783104     B  \n",
       "5783105   NaN  \n",
       "5783106   NaN  \n",
       "5783107     B  \n",
       "5783108     B  \n",
       "\n",
       "[5783109 rows x 76 columns]"
      ]
     },
     "execution_count": 3,
     "metadata": {},
     "output_type": "execute_result"
    }
   ],
   "source": [
    "df"
   ]
  },
  {
   "cell_type": "markdown",
   "id": "43ddd0f2",
   "metadata": {},
   "source": [
    "## Tratamento do DataFrame\n",
    "- Excluindo colunas desnecessarias\n",
    "- Tirando usuarios que não fizeram nenhuma etapa da prova\n",
    "- Criando uma nova planilha "
   ]
  },
  {
   "cell_type": "code",
   "execution_count": 4,
   "id": "6b6cb0a6",
   "metadata": {},
   "outputs": [
    {
     "name": "stdout",
     "output_type": "stream",
     "text": [
      "['NU_INSCRICAO', 'NU_ANO', 'TP_FAIXA_ETARIA', 'TP_SEXO', 'TP_ESTADO_CIVIL', 'TP_COR_RACA', 'TP_NACIONALIDADE', 'TP_ST_CONCLUSAO', 'TP_ANO_CONCLUIU', 'TP_ESCOLA', 'TP_ENSINO', 'IN_TREINEIRO', 'CO_MUNICIPIO_ESC', 'NO_MUNICIPIO_ESC', 'CO_UF_ESC', 'SG_UF_ESC', 'TP_DEPENDENCIA_ADM_ESC', 'TP_LOCALIZACAO_ESC', 'TP_SIT_FUNC_ESC', 'CO_MUNICIPIO_PROVA', 'NO_MUNICIPIO_PROVA', 'CO_UF_PROVA', 'SG_UF_PROVA', 'TP_PRESENCA_CN', 'TP_PRESENCA_CH', 'TP_PRESENCA_LC', 'TP_PRESENCA_MT', 'CO_PROVA_CN', 'CO_PROVA_CH', 'CO_PROVA_LC', 'CO_PROVA_MT', 'NU_NOTA_CN', 'NU_NOTA_CH', 'NU_NOTA_LC', 'NU_NOTA_MT', 'TX_RESPOSTAS_CN', 'TX_RESPOSTAS_CH', 'TX_RESPOSTAS_LC', 'TX_RESPOSTAS_MT', 'TP_LINGUA', 'TX_GABARITO_CN', 'TX_GABARITO_CH', 'TX_GABARITO_LC', 'TX_GABARITO_MT', 'TP_STATUS_REDACAO', 'NU_NOTA_COMP1', 'NU_NOTA_COMP2', 'NU_NOTA_COMP3', 'NU_NOTA_COMP4', 'NU_NOTA_COMP5', 'NU_NOTA_REDACAO', 'Q001', 'Q002', 'Q003', 'Q004', 'Q005', 'Q006', 'Q007', 'Q008', 'Q009', 'Q010', 'Q011', 'Q012', 'Q013', 'Q014', 'Q015', 'Q016', 'Q017', 'Q018', 'Q019', 'Q020', 'Q021', 'Q022', 'Q023', 'Q024', 'Q025']\n"
     ]
    }
   ],
   "source": [
    "print (list(df.columns))\n",
    "#Mostrando a lista de colunas"
   ]
  },
  {
   "cell_type": "markdown",
   "id": "20284647",
   "metadata": {},
   "source": [
    "Excluindo colunas que não são necessarias"
   ]
  },
  {
   "cell_type": "code",
   "execution_count": 5,
   "id": "3f22f32f",
   "metadata": {},
   "outputs": [],
   "source": [
    "df = df.drop(columns = ['TP_FAIXA_ETARIA', 'TP_ESTADO_CIVIL', 'TP_NACIONALIDADE', 'TP_ST_CONCLUSAO', 'TP_ANO_CONCLUIU',\n",
    "                        'TP_ESCOLA', 'TP_ENSINO', 'IN_TREINEIRO','CO_MUNICIPIO_ESC', 'NO_MUNICIPIO_ESC', 'CO_UF_ESC', \n",
    "                        'SG_UF_ESC', 'TP_DEPENDENCIA_ADM_ESC', 'TP_LOCALIZACAO_ESC', 'TP_SIT_FUNC_ESC','CO_MUNICIPIO_PROVA', \n",
    "                        'CO_UF_PROVA', 'CO_PROVA_CN', \n",
    "                        'CO_PROVA_CH', 'CO_PROVA_LC', 'CO_PROVA_MT', 'TX_RESPOSTAS_CN', 'TX_RESPOSTAS_CH', 'TX_RESPOSTAS_LC', \n",
    "                        'TX_RESPOSTAS_MT', 'TP_LINGUA', 'TX_GABARITO_CN', 'TX_GABARITO_CH', 'TX_GABARITO_LC', 'TX_GABARITO_MT',\n",
    "                        'TP_STATUS_REDACAO', 'NU_NOTA_COMP1', 'NU_NOTA_COMP2', 'NU_NOTA_COMP3', 'NU_NOTA_COMP4', 'NU_NOTA_COMP5',\n",
    "                        'Q001', 'Q002', 'Q003', 'Q004', 'Q005', 'Q006', 'Q007', 'Q008', 'Q009', 'Q010', 'Q011', 'Q012', 'Q013',\n",
    "                        'Q014', 'Q015', 'Q016', 'Q017', 'Q018', 'Q019', 'Q020', 'Q021', 'Q022', 'Q023', 'Q024', 'Q025','NU_ANO',\n",
    "                       'NO_MUNICIPIO_PROVA', 'SG_UF_PROVA', ])"
   ]
  },
  {
   "cell_type": "code",
   "execution_count": 6,
   "id": "2bdd6503",
   "metadata": {
    "scrolled": true
   },
   "outputs": [
    {
     "data": {
      "text/html": [
       "<div>\n",
       "<style scoped>\n",
       "    .dataframe tbody tr th:only-of-type {\n",
       "        vertical-align: middle;\n",
       "    }\n",
       "\n",
       "    .dataframe tbody tr th {\n",
       "        vertical-align: top;\n",
       "    }\n",
       "\n",
       "    .dataframe thead th {\n",
       "        text-align: right;\n",
       "    }\n",
       "</style>\n",
       "<table border=\"1\" class=\"dataframe\">\n",
       "  <thead>\n",
       "    <tr style=\"text-align: right;\">\n",
       "      <th></th>\n",
       "      <th>NU_INSCRICAO</th>\n",
       "      <th>TP_SEXO</th>\n",
       "      <th>TP_COR_RACA</th>\n",
       "      <th>TP_PRESENCA_CN</th>\n",
       "      <th>TP_PRESENCA_CH</th>\n",
       "      <th>TP_PRESENCA_LC</th>\n",
       "      <th>TP_PRESENCA_MT</th>\n",
       "      <th>NU_NOTA_CN</th>\n",
       "      <th>NU_NOTA_CH</th>\n",
       "      <th>NU_NOTA_LC</th>\n",
       "      <th>NU_NOTA_MT</th>\n",
       "      <th>NU_NOTA_REDACAO</th>\n",
       "    </tr>\n",
       "  </thead>\n",
       "  <tbody>\n",
       "    <tr>\n",
       "      <th>0</th>\n",
       "      <td>200006271946</td>\n",
       "      <td>F</td>\n",
       "      <td>2</td>\n",
       "      <td>0</td>\n",
       "      <td>0</td>\n",
       "      <td>0</td>\n",
       "      <td>0</td>\n",
       "      <td>NaN</td>\n",
       "      <td>NaN</td>\n",
       "      <td>NaN</td>\n",
       "      <td>NaN</td>\n",
       "      <td>NaN</td>\n",
       "    </tr>\n",
       "    <tr>\n",
       "      <th>1</th>\n",
       "      <td>200001195856</td>\n",
       "      <td>M</td>\n",
       "      <td>3</td>\n",
       "      <td>1</td>\n",
       "      <td>1</td>\n",
       "      <td>1</td>\n",
       "      <td>1</td>\n",
       "      <td>604.1</td>\n",
       "      <td>661.7</td>\n",
       "      <td>595.3</td>\n",
       "      <td>711.3</td>\n",
       "      <td>580.0</td>\n",
       "    </tr>\n",
       "    <tr>\n",
       "      <th>2</th>\n",
       "      <td>200001943954</td>\n",
       "      <td>F</td>\n",
       "      <td>3</td>\n",
       "      <td>0</td>\n",
       "      <td>0</td>\n",
       "      <td>0</td>\n",
       "      <td>0</td>\n",
       "      <td>NaN</td>\n",
       "      <td>NaN</td>\n",
       "      <td>NaN</td>\n",
       "      <td>NaN</td>\n",
       "      <td>NaN</td>\n",
       "    </tr>\n",
       "    <tr>\n",
       "      <th>3</th>\n",
       "      <td>200001908998</td>\n",
       "      <td>M</td>\n",
       "      <td>3</td>\n",
       "      <td>1</td>\n",
       "      <td>1</td>\n",
       "      <td>1</td>\n",
       "      <td>1</td>\n",
       "      <td>620.8</td>\n",
       "      <td>675.0</td>\n",
       "      <td>624.2</td>\n",
       "      <td>759.4</td>\n",
       "      <td>760.0</td>\n",
       "    </tr>\n",
       "    <tr>\n",
       "      <th>4</th>\n",
       "      <td>200001634757</td>\n",
       "      <td>F</td>\n",
       "      <td>3</td>\n",
       "      <td>0</td>\n",
       "      <td>0</td>\n",
       "      <td>0</td>\n",
       "      <td>0</td>\n",
       "      <td>NaN</td>\n",
       "      <td>NaN</td>\n",
       "      <td>NaN</td>\n",
       "      <td>NaN</td>\n",
       "      <td>NaN</td>\n",
       "    </tr>\n",
       "    <tr>\n",
       "      <th>...</th>\n",
       "      <td>...</td>\n",
       "      <td>...</td>\n",
       "      <td>...</td>\n",
       "      <td>...</td>\n",
       "      <td>...</td>\n",
       "      <td>...</td>\n",
       "      <td>...</td>\n",
       "      <td>...</td>\n",
       "      <td>...</td>\n",
       "      <td>...</td>\n",
       "      <td>...</td>\n",
       "      <td>...</td>\n",
       "    </tr>\n",
       "    <tr>\n",
       "      <th>5783104</th>\n",
       "      <td>200003396891</td>\n",
       "      <td>F</td>\n",
       "      <td>1</td>\n",
       "      <td>1</td>\n",
       "      <td>1</td>\n",
       "      <td>1</td>\n",
       "      <td>1</td>\n",
       "      <td>508.3</td>\n",
       "      <td>661.4</td>\n",
       "      <td>658.3</td>\n",
       "      <td>725.7</td>\n",
       "      <td>900.0</td>\n",
       "    </tr>\n",
       "    <tr>\n",
       "      <th>5783105</th>\n",
       "      <td>200006040822</td>\n",
       "      <td>M</td>\n",
       "      <td>1</td>\n",
       "      <td>1</td>\n",
       "      <td>1</td>\n",
       "      <td>1</td>\n",
       "      <td>1</td>\n",
       "      <td>570.5</td>\n",
       "      <td>646.1</td>\n",
       "      <td>607.2</td>\n",
       "      <td>719.5</td>\n",
       "      <td>660.0</td>\n",
       "    </tr>\n",
       "    <tr>\n",
       "      <th>5783106</th>\n",
       "      <td>200004928656</td>\n",
       "      <td>F</td>\n",
       "      <td>1</td>\n",
       "      <td>1</td>\n",
       "      <td>1</td>\n",
       "      <td>1</td>\n",
       "      <td>1</td>\n",
       "      <td>418.8</td>\n",
       "      <td>597.5</td>\n",
       "      <td>674.5</td>\n",
       "      <td>648.1</td>\n",
       "      <td>660.0</td>\n",
       "    </tr>\n",
       "    <tr>\n",
       "      <th>5783107</th>\n",
       "      <td>200006774808</td>\n",
       "      <td>F</td>\n",
       "      <td>1</td>\n",
       "      <td>0</td>\n",
       "      <td>0</td>\n",
       "      <td>0</td>\n",
       "      <td>0</td>\n",
       "      <td>NaN</td>\n",
       "      <td>NaN</td>\n",
       "      <td>NaN</td>\n",
       "      <td>NaN</td>\n",
       "      <td>NaN</td>\n",
       "    </tr>\n",
       "    <tr>\n",
       "      <th>5783108</th>\n",
       "      <td>200007078230</td>\n",
       "      <td>F</td>\n",
       "      <td>3</td>\n",
       "      <td>1</td>\n",
       "      <td>1</td>\n",
       "      <td>1</td>\n",
       "      <td>1</td>\n",
       "      <td>478.5</td>\n",
       "      <td>625.5</td>\n",
       "      <td>538.4</td>\n",
       "      <td>481.7</td>\n",
       "      <td>380.0</td>\n",
       "    </tr>\n",
       "  </tbody>\n",
       "</table>\n",
       "<p>5783109 rows × 12 columns</p>\n",
       "</div>"
      ],
      "text/plain": [
       "         NU_INSCRICAO TP_SEXO  TP_COR_RACA  TP_PRESENCA_CN  TP_PRESENCA_CH  \\\n",
       "0        200006271946       F            2               0               0   \n",
       "1        200001195856       M            3               1               1   \n",
       "2        200001943954       F            3               0               0   \n",
       "3        200001908998       M            3               1               1   \n",
       "4        200001634757       F            3               0               0   \n",
       "...               ...     ...          ...             ...             ...   \n",
       "5783104  200003396891       F            1               1               1   \n",
       "5783105  200006040822       M            1               1               1   \n",
       "5783106  200004928656       F            1               1               1   \n",
       "5783107  200006774808       F            1               0               0   \n",
       "5783108  200007078230       F            3               1               1   \n",
       "\n",
       "         TP_PRESENCA_LC  TP_PRESENCA_MT  NU_NOTA_CN  NU_NOTA_CH  NU_NOTA_LC  \\\n",
       "0                     0               0         NaN         NaN         NaN   \n",
       "1                     1               1       604.1       661.7       595.3   \n",
       "2                     0               0         NaN         NaN         NaN   \n",
       "3                     1               1       620.8       675.0       624.2   \n",
       "4                     0               0         NaN         NaN         NaN   \n",
       "...                 ...             ...         ...         ...         ...   \n",
       "5783104               1               1       508.3       661.4       658.3   \n",
       "5783105               1               1       570.5       646.1       607.2   \n",
       "5783106               1               1       418.8       597.5       674.5   \n",
       "5783107               0               0         NaN         NaN         NaN   \n",
       "5783108               1               1       478.5       625.5       538.4   \n",
       "\n",
       "         NU_NOTA_MT  NU_NOTA_REDACAO  \n",
       "0               NaN              NaN  \n",
       "1             711.3            580.0  \n",
       "2               NaN              NaN  \n",
       "3             759.4            760.0  \n",
       "4               NaN              NaN  \n",
       "...             ...              ...  \n",
       "5783104       725.7            900.0  \n",
       "5783105       719.5            660.0  \n",
       "5783106       648.1            660.0  \n",
       "5783107         NaN              NaN  \n",
       "5783108       481.7            380.0  \n",
       "\n",
       "[5783109 rows x 12 columns]"
      ]
     },
     "execution_count": 6,
     "metadata": {},
     "output_type": "execute_result"
    }
   ],
   "source": [
    "df\n",
    "#Mostrando a lista para ver como ficou"
   ]
  },
  {
   "cell_type": "code",
   "execution_count": 7,
   "id": "43306655",
   "metadata": {},
   "outputs": [],
   "source": [
    "df = df.loc[(df['TP_PRESENCA_CH'] == 1) |\n",
    "                        (df['TP_PRESENCA_CN'] == 1) |\n",
    "                        (df['TP_PRESENCA_LC'] == 1) |\n",
    "                        (df['TP_PRESENCA_MT'] == 1)]\n",
    "#Removendo linhas em que TODAS elas correspondem com valor 0"
   ]
  },
  {
   "cell_type": "code",
   "execution_count": 8,
   "id": "8ed07e62",
   "metadata": {
    "scrolled": true
   },
   "outputs": [
    {
     "data": {
      "text/html": [
       "<div>\n",
       "<style scoped>\n",
       "    .dataframe tbody tr th:only-of-type {\n",
       "        vertical-align: middle;\n",
       "    }\n",
       "\n",
       "    .dataframe tbody tr th {\n",
       "        vertical-align: top;\n",
       "    }\n",
       "\n",
       "    .dataframe thead th {\n",
       "        text-align: right;\n",
       "    }\n",
       "</style>\n",
       "<table border=\"1\" class=\"dataframe\">\n",
       "  <thead>\n",
       "    <tr style=\"text-align: right;\">\n",
       "      <th></th>\n",
       "      <th>NU_INSCRICAO</th>\n",
       "      <th>TP_SEXO</th>\n",
       "      <th>TP_COR_RACA</th>\n",
       "      <th>TP_PRESENCA_CN</th>\n",
       "      <th>TP_PRESENCA_CH</th>\n",
       "      <th>TP_PRESENCA_LC</th>\n",
       "      <th>TP_PRESENCA_MT</th>\n",
       "      <th>NU_NOTA_CN</th>\n",
       "      <th>NU_NOTA_CH</th>\n",
       "      <th>NU_NOTA_LC</th>\n",
       "      <th>NU_NOTA_MT</th>\n",
       "      <th>NU_NOTA_REDACAO</th>\n",
       "    </tr>\n",
       "  </thead>\n",
       "  <tbody>\n",
       "    <tr>\n",
       "      <th>1</th>\n",
       "      <td>200001195856</td>\n",
       "      <td>M</td>\n",
       "      <td>3</td>\n",
       "      <td>1</td>\n",
       "      <td>1</td>\n",
       "      <td>1</td>\n",
       "      <td>1</td>\n",
       "      <td>604.1</td>\n",
       "      <td>661.7</td>\n",
       "      <td>595.3</td>\n",
       "      <td>711.3</td>\n",
       "      <td>580.0</td>\n",
       "    </tr>\n",
       "    <tr>\n",
       "      <th>3</th>\n",
       "      <td>200001908998</td>\n",
       "      <td>M</td>\n",
       "      <td>3</td>\n",
       "      <td>1</td>\n",
       "      <td>1</td>\n",
       "      <td>1</td>\n",
       "      <td>1</td>\n",
       "      <td>620.8</td>\n",
       "      <td>675.0</td>\n",
       "      <td>624.2</td>\n",
       "      <td>759.4</td>\n",
       "      <td>760.0</td>\n",
       "    </tr>\n",
       "    <tr>\n",
       "      <th>5</th>\n",
       "      <td>200003132410</td>\n",
       "      <td>F</td>\n",
       "      <td>3</td>\n",
       "      <td>1</td>\n",
       "      <td>1</td>\n",
       "      <td>1</td>\n",
       "      <td>1</td>\n",
       "      <td>498.1</td>\n",
       "      <td>604.7</td>\n",
       "      <td>505.4</td>\n",
       "      <td>526.7</td>\n",
       "      <td>700.0</td>\n",
       "    </tr>\n",
       "    <tr>\n",
       "      <th>7</th>\n",
       "      <td>200001334237</td>\n",
       "      <td>M</td>\n",
       "      <td>1</td>\n",
       "      <td>1</td>\n",
       "      <td>1</td>\n",
       "      <td>1</td>\n",
       "      <td>1</td>\n",
       "      <td>604.6</td>\n",
       "      <td>604.8</td>\n",
       "      <td>562.1</td>\n",
       "      <td>753.2</td>\n",
       "      <td>600.0</td>\n",
       "    </tr>\n",
       "    <tr>\n",
       "      <th>8</th>\n",
       "      <td>200006762554</td>\n",
       "      <td>F</td>\n",
       "      <td>3</td>\n",
       "      <td>1</td>\n",
       "      <td>1</td>\n",
       "      <td>1</td>\n",
       "      <td>1</td>\n",
       "      <td>439.7</td>\n",
       "      <td>383.5</td>\n",
       "      <td>486.2</td>\n",
       "      <td>448.5</td>\n",
       "      <td>600.0</td>\n",
       "    </tr>\n",
       "    <tr>\n",
       "      <th>...</th>\n",
       "      <td>...</td>\n",
       "      <td>...</td>\n",
       "      <td>...</td>\n",
       "      <td>...</td>\n",
       "      <td>...</td>\n",
       "      <td>...</td>\n",
       "      <td>...</td>\n",
       "      <td>...</td>\n",
       "      <td>...</td>\n",
       "      <td>...</td>\n",
       "      <td>...</td>\n",
       "      <td>...</td>\n",
       "    </tr>\n",
       "    <tr>\n",
       "      <th>5783103</th>\n",
       "      <td>200001819135</td>\n",
       "      <td>M</td>\n",
       "      <td>1</td>\n",
       "      <td>1</td>\n",
       "      <td>1</td>\n",
       "      <td>1</td>\n",
       "      <td>1</td>\n",
       "      <td>547.3</td>\n",
       "      <td>613.3</td>\n",
       "      <td>596.4</td>\n",
       "      <td>469.1</td>\n",
       "      <td>660.0</td>\n",
       "    </tr>\n",
       "    <tr>\n",
       "      <th>5783104</th>\n",
       "      <td>200003396891</td>\n",
       "      <td>F</td>\n",
       "      <td>1</td>\n",
       "      <td>1</td>\n",
       "      <td>1</td>\n",
       "      <td>1</td>\n",
       "      <td>1</td>\n",
       "      <td>508.3</td>\n",
       "      <td>661.4</td>\n",
       "      <td>658.3</td>\n",
       "      <td>725.7</td>\n",
       "      <td>900.0</td>\n",
       "    </tr>\n",
       "    <tr>\n",
       "      <th>5783105</th>\n",
       "      <td>200006040822</td>\n",
       "      <td>M</td>\n",
       "      <td>1</td>\n",
       "      <td>1</td>\n",
       "      <td>1</td>\n",
       "      <td>1</td>\n",
       "      <td>1</td>\n",
       "      <td>570.5</td>\n",
       "      <td>646.1</td>\n",
       "      <td>607.2</td>\n",
       "      <td>719.5</td>\n",
       "      <td>660.0</td>\n",
       "    </tr>\n",
       "    <tr>\n",
       "      <th>5783106</th>\n",
       "      <td>200004928656</td>\n",
       "      <td>F</td>\n",
       "      <td>1</td>\n",
       "      <td>1</td>\n",
       "      <td>1</td>\n",
       "      <td>1</td>\n",
       "      <td>1</td>\n",
       "      <td>418.8</td>\n",
       "      <td>597.5</td>\n",
       "      <td>674.5</td>\n",
       "      <td>648.1</td>\n",
       "      <td>660.0</td>\n",
       "    </tr>\n",
       "    <tr>\n",
       "      <th>5783108</th>\n",
       "      <td>200007078230</td>\n",
       "      <td>F</td>\n",
       "      <td>3</td>\n",
       "      <td>1</td>\n",
       "      <td>1</td>\n",
       "      <td>1</td>\n",
       "      <td>1</td>\n",
       "      <td>478.5</td>\n",
       "      <td>625.5</td>\n",
       "      <td>538.4</td>\n",
       "      <td>481.7</td>\n",
       "      <td>380.0</td>\n",
       "    </tr>\n",
       "  </tbody>\n",
       "</table>\n",
       "<p>2762899 rows × 12 columns</p>\n",
       "</div>"
      ],
      "text/plain": [
       "         NU_INSCRICAO TP_SEXO  TP_COR_RACA  TP_PRESENCA_CN  TP_PRESENCA_CH  \\\n",
       "1        200001195856       M            3               1               1   \n",
       "3        200001908998       M            3               1               1   \n",
       "5        200003132410       F            3               1               1   \n",
       "7        200001334237       M            1               1               1   \n",
       "8        200006762554       F            3               1               1   \n",
       "...               ...     ...          ...             ...             ...   \n",
       "5783103  200001819135       M            1               1               1   \n",
       "5783104  200003396891       F            1               1               1   \n",
       "5783105  200006040822       M            1               1               1   \n",
       "5783106  200004928656       F            1               1               1   \n",
       "5783108  200007078230       F            3               1               1   \n",
       "\n",
       "         TP_PRESENCA_LC  TP_PRESENCA_MT  NU_NOTA_CN  NU_NOTA_CH  NU_NOTA_LC  \\\n",
       "1                     1               1       604.1       661.7       595.3   \n",
       "3                     1               1       620.8       675.0       624.2   \n",
       "5                     1               1       498.1       604.7       505.4   \n",
       "7                     1               1       604.6       604.8       562.1   \n",
       "8                     1               1       439.7       383.5       486.2   \n",
       "...                 ...             ...         ...         ...         ...   \n",
       "5783103               1               1       547.3       613.3       596.4   \n",
       "5783104               1               1       508.3       661.4       658.3   \n",
       "5783105               1               1       570.5       646.1       607.2   \n",
       "5783106               1               1       418.8       597.5       674.5   \n",
       "5783108               1               1       478.5       625.5       538.4   \n",
       "\n",
       "         NU_NOTA_MT  NU_NOTA_REDACAO  \n",
       "1             711.3            580.0  \n",
       "3             759.4            760.0  \n",
       "5             526.7            700.0  \n",
       "7             753.2            600.0  \n",
       "8             448.5            600.0  \n",
       "...             ...              ...  \n",
       "5783103       469.1            660.0  \n",
       "5783104       725.7            900.0  \n",
       "5783105       719.5            660.0  \n",
       "5783106       648.1            660.0  \n",
       "5783108       481.7            380.0  \n",
       "\n",
       "[2762899 rows x 12 columns]"
      ]
     },
     "execution_count": 8,
     "metadata": {},
     "output_type": "execute_result"
    }
   ],
   "source": [
    "df"
   ]
  },
  {
   "cell_type": "markdown",
   "id": "6906156a",
   "metadata": {},
   "source": [
    "## Tirando 10% de toda a planilha"
   ]
  },
  {
   "cell_type": "code",
   "execution_count": 9,
   "id": "448edeb9",
   "metadata": {},
   "outputs": [
    {
     "name": "stdout",
     "output_type": "stream",
     "text": [
      "276289.9\n"
     ]
    }
   ],
   "source": [
    "conta = 2762899/10\n",
    "print(conta)\n",
    "#Fazendo a conta para tirar 10% do valor total"
   ]
  },
  {
   "cell_type": "code",
   "execution_count": 10,
   "id": "a2e1f662",
   "metadata": {},
   "outputs": [],
   "source": [
    "df2 = df.sample(276289).reset_index()\n",
    "#Pegando aleatoriamente linhas da tabela e inserindo em uma variavel nova"
   ]
  },
  {
   "cell_type": "code",
   "execution_count": 11,
   "id": "e8bed147",
   "metadata": {
    "scrolled": true
   },
   "outputs": [
    {
     "data": {
      "text/html": [
       "<div>\n",
       "<style scoped>\n",
       "    .dataframe tbody tr th:only-of-type {\n",
       "        vertical-align: middle;\n",
       "    }\n",
       "\n",
       "    .dataframe tbody tr th {\n",
       "        vertical-align: top;\n",
       "    }\n",
       "\n",
       "    .dataframe thead th {\n",
       "        text-align: right;\n",
       "    }\n",
       "</style>\n",
       "<table border=\"1\" class=\"dataframe\">\n",
       "  <thead>\n",
       "    <tr style=\"text-align: right;\">\n",
       "      <th></th>\n",
       "      <th>NU_INSCRICAO</th>\n",
       "      <th>TP_SEXO</th>\n",
       "      <th>TP_COR_RACA</th>\n",
       "      <th>NU_NOTA_CN</th>\n",
       "      <th>NU_NOTA_CH</th>\n",
       "      <th>NU_NOTA_LC</th>\n",
       "      <th>NU_NOTA_MT</th>\n",
       "      <th>NU_NOTA_REDACAO</th>\n",
       "    </tr>\n",
       "  </thead>\n",
       "  <tbody>\n",
       "    <tr>\n",
       "      <th>1</th>\n",
       "      <td>200001195856</td>\n",
       "      <td>M</td>\n",
       "      <td>3</td>\n",
       "      <td>604.1</td>\n",
       "      <td>661.7</td>\n",
       "      <td>595.3</td>\n",
       "      <td>711.3</td>\n",
       "      <td>580.0</td>\n",
       "    </tr>\n",
       "    <tr>\n",
       "      <th>3</th>\n",
       "      <td>200001908998</td>\n",
       "      <td>M</td>\n",
       "      <td>3</td>\n",
       "      <td>620.8</td>\n",
       "      <td>675.0</td>\n",
       "      <td>624.2</td>\n",
       "      <td>759.4</td>\n",
       "      <td>760.0</td>\n",
       "    </tr>\n",
       "    <tr>\n",
       "      <th>5</th>\n",
       "      <td>200003132410</td>\n",
       "      <td>F</td>\n",
       "      <td>3</td>\n",
       "      <td>498.1</td>\n",
       "      <td>604.7</td>\n",
       "      <td>505.4</td>\n",
       "      <td>526.7</td>\n",
       "      <td>700.0</td>\n",
       "    </tr>\n",
       "    <tr>\n",
       "      <th>7</th>\n",
       "      <td>200001334237</td>\n",
       "      <td>M</td>\n",
       "      <td>1</td>\n",
       "      <td>604.6</td>\n",
       "      <td>604.8</td>\n",
       "      <td>562.1</td>\n",
       "      <td>753.2</td>\n",
       "      <td>600.0</td>\n",
       "    </tr>\n",
       "    <tr>\n",
       "      <th>8</th>\n",
       "      <td>200006762554</td>\n",
       "      <td>F</td>\n",
       "      <td>3</td>\n",
       "      <td>439.7</td>\n",
       "      <td>383.5</td>\n",
       "      <td>486.2</td>\n",
       "      <td>448.5</td>\n",
       "      <td>600.0</td>\n",
       "    </tr>\n",
       "    <tr>\n",
       "      <th>...</th>\n",
       "      <td>...</td>\n",
       "      <td>...</td>\n",
       "      <td>...</td>\n",
       "      <td>...</td>\n",
       "      <td>...</td>\n",
       "      <td>...</td>\n",
       "      <td>...</td>\n",
       "      <td>...</td>\n",
       "    </tr>\n",
       "    <tr>\n",
       "      <th>5783103</th>\n",
       "      <td>200001819135</td>\n",
       "      <td>M</td>\n",
       "      <td>1</td>\n",
       "      <td>547.3</td>\n",
       "      <td>613.3</td>\n",
       "      <td>596.4</td>\n",
       "      <td>469.1</td>\n",
       "      <td>660.0</td>\n",
       "    </tr>\n",
       "    <tr>\n",
       "      <th>5783104</th>\n",
       "      <td>200003396891</td>\n",
       "      <td>F</td>\n",
       "      <td>1</td>\n",
       "      <td>508.3</td>\n",
       "      <td>661.4</td>\n",
       "      <td>658.3</td>\n",
       "      <td>725.7</td>\n",
       "      <td>900.0</td>\n",
       "    </tr>\n",
       "    <tr>\n",
       "      <th>5783105</th>\n",
       "      <td>200006040822</td>\n",
       "      <td>M</td>\n",
       "      <td>1</td>\n",
       "      <td>570.5</td>\n",
       "      <td>646.1</td>\n",
       "      <td>607.2</td>\n",
       "      <td>719.5</td>\n",
       "      <td>660.0</td>\n",
       "    </tr>\n",
       "    <tr>\n",
       "      <th>5783106</th>\n",
       "      <td>200004928656</td>\n",
       "      <td>F</td>\n",
       "      <td>1</td>\n",
       "      <td>418.8</td>\n",
       "      <td>597.5</td>\n",
       "      <td>674.5</td>\n",
       "      <td>648.1</td>\n",
       "      <td>660.0</td>\n",
       "    </tr>\n",
       "    <tr>\n",
       "      <th>5783108</th>\n",
       "      <td>200007078230</td>\n",
       "      <td>F</td>\n",
       "      <td>3</td>\n",
       "      <td>478.5</td>\n",
       "      <td>625.5</td>\n",
       "      <td>538.4</td>\n",
       "      <td>481.7</td>\n",
       "      <td>380.0</td>\n",
       "    </tr>\n",
       "  </tbody>\n",
       "</table>\n",
       "<p>2762899 rows × 8 columns</p>\n",
       "</div>"
      ],
      "text/plain": [
       "         NU_INSCRICAO TP_SEXO  TP_COR_RACA  NU_NOTA_CN  NU_NOTA_CH  \\\n",
       "1        200001195856       M            3       604.1       661.7   \n",
       "3        200001908998       M            3       620.8       675.0   \n",
       "5        200003132410       F            3       498.1       604.7   \n",
       "7        200001334237       M            1       604.6       604.8   \n",
       "8        200006762554       F            3       439.7       383.5   \n",
       "...               ...     ...          ...         ...         ...   \n",
       "5783103  200001819135       M            1       547.3       613.3   \n",
       "5783104  200003396891       F            1       508.3       661.4   \n",
       "5783105  200006040822       M            1       570.5       646.1   \n",
       "5783106  200004928656       F            1       418.8       597.5   \n",
       "5783108  200007078230       F            3       478.5       625.5   \n",
       "\n",
       "         NU_NOTA_LC  NU_NOTA_MT  NU_NOTA_REDACAO  \n",
       "1             595.3       711.3            580.0  \n",
       "3             624.2       759.4            760.0  \n",
       "5             505.4       526.7            700.0  \n",
       "7             562.1       753.2            600.0  \n",
       "8             486.2       448.5            600.0  \n",
       "...             ...         ...              ...  \n",
       "5783103       596.4       469.1            660.0  \n",
       "5783104       658.3       725.7            900.0  \n",
       "5783105       607.2       719.5            660.0  \n",
       "5783106       674.5       648.1            660.0  \n",
       "5783108       538.4       481.7            380.0  \n",
       "\n",
       "[2762899 rows x 8 columns]"
      ]
     },
     "execution_count": 11,
     "metadata": {},
     "output_type": "execute_result"
    }
   ],
   "source": [
    "# Removendo colunas que não iram mais ser utilizadas\n",
    "df2 = df.drop(columns =['TP_PRESENCA_CN','TP_PRESENCA_CH', 'TP_PRESENCA_LC', 'TP_PRESENCA_MT'])\n",
    "df2"
   ]
  },
  {
   "cell_type": "markdown",
   "id": "79bfbf4a",
   "metadata": {},
   "source": [
    "## Tirando a média de todos os usuários"
   ]
  },
  {
   "cell_type": "code",
   "execution_count": 12,
   "id": "c2d51e55",
   "metadata": {},
   "outputs": [],
   "source": [
    "df2['MEDIA_TOTAL'] = (df2['NU_NOTA_CN'] + df2['NU_NOTA_CH'] + df2['NU_NOTA_LC']\n",
    "+ df2['NU_NOTA_MT'] + df2['NU_NOTA_REDACAO']) / 5\n",
    "#Tirando a média de todas as pessoas."
   ]
  },
  {
   "cell_type": "markdown",
   "id": "30564203",
   "metadata": {},
   "source": [
    "### Mostrando a quantidade total de homens e mulheres da tabela"
   ]
  },
  {
   "cell_type": "code",
   "execution_count": 16,
   "id": "0bac6a3b",
   "metadata": {},
   "outputs": [],
   "source": [
    "# Renomeando 'F' e 'M', para Feminino e Masculino\n",
    "df2['TP_SEXO'].replace(['F'], 'Feminino',inplace = True)\n",
    "df2['TP_SEXO'].replace(['M'], 'Masculino',inplace = True)"
   ]
  },
  {
   "cell_type": "code",
   "execution_count": 17,
   "id": "8f4ed887",
   "metadata": {},
   "outputs": [
    {
     "name": "stdout",
     "output_type": "stream",
     "text": [
      "Feminino     1668254\n",
      "Masculino    1094645\n",
      "Name: TP_SEXO, dtype: int64\n"
     ]
    }
   ],
   "source": [
    "frequencia = df2['TP_SEXO'].value_counts()\n",
    "print(frequencia)"
   ]
  },
  {
   "cell_type": "markdown",
   "id": "2d226184",
   "metadata": {},
   "source": [
    "### Grafico da média total\n",
    "O grafico a baixo, representa a média das notas entre o sexo masculino e feminino.\n",
    "E percebe-se que as notas masculinas foram as melhores.\n",
    "OBSERVAÇÃO:Prestar atenção na diferença de participantes de determinado sexo que fizeram a prova."
   ]
  },
  {
   "cell_type": "code",
   "execution_count": 18,
   "id": "144f6e96",
   "metadata": {},
   "outputs": [
    {
     "data": {
      "image/png": "[encoded data removed]",
      "text/plain": [
       "<Figure size 216x288 with 1 Axes>"
      ]
     },
     "metadata": {
      "needs_background": "light"
     },
     "output_type": "display_data"
    }
   ],
   "source": [
    "fig, ax = plt.subplots(figsize=(3,4))\n",
    "sns.barplot(x = df2['TP_SEXO'], y = df2['MEDIA_TOTAL'], estimator = np.mean, ax = ax, data = df2)\n",
    "#Mudando a aparencia do gráfico\n",
    "ax.set_title(\"Média da Nota Final\", fontdict={'fontsize':13})\n",
    "ax.set_xlabel('Sexo', fontdict={'fontsize':12})\n",
    "ax.set_ylabel('')\n",
    "plt.show()"
   ]
  },
  {
   "cell_type": "markdown",
   "id": "133b49cd",
   "metadata": {},
   "source": [
    "### Grafico das notas em Ciências da Natureza\n",
    "O gráfico a baixo, representa a média de notas em ciências da natureza.\n",
    "E percebe-se que as notas masculinas foram melhores.\n",
    "OBSERVAÇÃO:Prestar atenção na diferença de participantes de determinado sexo que fizeram a prova."
   ]
  },
  {
   "cell_type": "code",
   "execution_count": 19,
   "id": "ff6e40e8",
   "metadata": {},
   "outputs": [
    {
     "data": {
      "image/png": "[encoded data removed]",
      "text/plain": [
       "<Figure size 216x288 with 1 Axes>"
      ]
     },
     "metadata": {
      "needs_background": "light"
     },
     "output_type": "display_data"
    }
   ],
   "source": [
    "fig, ax = plt.subplots(figsize=(3,4))\n",
    "sns.barplot(x = df2['TP_SEXO'], y = df2['NU_NOTA_CN'],estimator = np.mean, data = df2)\n",
    "#Mudando a aparencia do gráfico\n",
    "ax.set_title(\"Média da Nota em CN\", fontdict={'fontsize':13})\n",
    "ax.set_xlabel('Sexo', fontdict={'fontsize':12})\n",
    "ax.set_ylabel('')\n",
    "plt.show()"
   ]
  },
  {
   "cell_type": "markdown",
   "id": "6456f815",
   "metadata": {},
   "source": [
    "### Grafico das notas em Ciências Humanas\n",
    "O gráfico a baixo,representa a média das notas em ciências humanas.\n",
    "E percebe-se que as notas masculinas foram melhores.\n",
    "OBSERVAÇÃO:Prestar atenção na diferença de participantes de determinado sexo que fizeram a prova."
   ]
  },
  {
   "cell_type": "code",
   "execution_count": 20,
   "id": "e2886d36",
   "metadata": {},
   "outputs": [
    {
     "data": {
      "image/png": "[encoded data removed]",
      "text/plain": [
       "<Figure size 216x288 with 1 Axes>"
      ]
     },
     "metadata": {
      "needs_background": "light"
     },
     "output_type": "display_data"
    }
   ],
   "source": [
    "fig, ax = plt.subplots(figsize=(3,4))\n",
    "sns.barplot(x = df2['TP_SEXO'], y = df2['NU_NOTA_CH'], estimator = np.mean, data = df2)\n",
    "#Mudando a aparencia do gráfico\n",
    "ax.set_title(\"Média da Nota em CN\", fontdict={'fontsize':13})\n",
    "ax.set_xlabel('Sexo', fontdict={'fontsize':12})\n",
    "ax.set_ylabel('')\n",
    "plt.show()"
   ]
  },
  {
   "cell_type": "markdown",
   "id": "9037a5ec",
   "metadata": {},
   "source": [
    "### Grafico das notas em Linguagens e Códigos\n",
    "O gráfico a baixo,representa a média das notas em Linguagens e Códigos.\n",
    "E percebe-se que as notas masculinas foram melhores.\n",
    "OBSERVAÇÃO:Prestar atenção na diferença de participantes de determinado sexo que fizeram a prova."
   ]
  },
  {
   "cell_type": "code",
   "execution_count": 21,
   "id": "4b1c2a88",
   "metadata": {},
   "outputs": [
    {
     "data": {
      "image/png": "[encoded data removed]",
      "text/plain": [
       "<Figure size 216x288 with 1 Axes>"
      ]
     },
     "metadata": {
      "needs_background": "light"
     },
     "output_type": "display_data"
    }
   ],
   "source": [
    "fig, ax = plt.subplots(figsize=(3,4))\n",
    "sns.barplot(x = df2['TP_SEXO'], y = df2['NU_NOTA_LC'], estimator = np.mean, data = df2)\n",
    "#Mudando a aparencia do gráfico\n",
    "ax.set_title(\"Média da Nota em LC\", fontdict={'fontsize':13})\n",
    "ax.set_xlabel('Sexo', fontdict={'fontsize':12})\n",
    "ax.set_ylabel('')\n",
    "plt.show()"
   ]
  },
  {
   "cell_type": "markdown",
   "id": "1d556dd7",
   "metadata": {},
   "source": [
    "### Gráfico das notas em Matemática\n",
    "O gráfico a baixo, representa a média das notas em Matemática.\n",
    "E percebe-se que as notas masculinas foram melhores.\n",
    "OBSERVAÇÃO:Prestar atenção na diferença de participantes de determinado sexo que fizeram a prova."
   ]
  },
  {
   "cell_type": "code",
   "execution_count": 22,
   "id": "18bcdb67",
   "metadata": {},
   "outputs": [
    {
     "data": {
      "image/png": "[encoded data removed]",
      "text/plain": [
       "<Figure size 216x288 with 1 Axes>"
      ]
     },
     "metadata": {
      "needs_background": "light"
     },
     "output_type": "display_data"
    }
   ],
   "source": [
    "fig, ax = plt.subplots(figsize=(3,4))\n",
    "sns.barplot(x = df2['TP_SEXO'], y = df2['NU_NOTA_MT'], estimator = np.mean, data = df2)\n",
    "#Mudando a aparencia do gráfico\n",
    "ax.set_title(\"Média da Nota em Matemática\", fontdict={'fontsize':13})\n",
    "ax.set_xlabel('Sexo', fontdict={'fontsize':12})\n",
    "ax.set_ylabel('')\n",
    "plt.show()"
   ]
  },
  {
   "cell_type": "markdown",
   "id": "ac996d1f",
   "metadata": {},
   "source": [
    "### Gráfico das notas em Redação\n",
    "O gráfico a baixo, representa a média das notas em Redação.\n",
    "E percebe-se que as notas Femininas foram melhores.\n",
    "OBSERVAÇÃO:Prestar atenção na diferença de participantes de determinado sexo que fizeram a prova."
   ]
  },
  {
   "cell_type": "code",
   "execution_count": 23,
   "id": "f63c62ad",
   "metadata": {},
   "outputs": [
    {
     "data": {
      "image/png": "[encoded data removed]",
      "text/plain": [
       "<Figure size 216x288 with 1 Axes>"
      ]
     },
     "metadata": {
      "needs_background": "light"
     },
     "output_type": "display_data"
    }
   ],
   "source": [
    "fig, ax = plt.subplots(figsize=(3,4))\n",
    "sns.barplot(x = df2['TP_SEXO'], y = df2['NU_NOTA_REDACAO'], estimator = np.mean, data = df2)\n",
    "#Mudando a aparencia do gráfico\n",
    "ax.set_title(\"Média da Nota em Redação\", fontdict={'fontsize':13})\n",
    "ax.set_xlabel('Sexo', fontdict={'fontsize':12})\n",
    "ax.set_ylabel('')\n",
    "plt.show()"
   ]
  },
  {
   "cell_type": "markdown",
   "id": "a83e0de6",
   "metadata": {},
   "source": [
    "## Comparando a média das notas de homens:Não Informado(0), Branco(1), Preto(2), Parda(3), Amarela(4) e Indígena(5)."
   ]
  },
  {
   "cell_type": "code",
   "execution_count": 52,
   "id": "e552d0e2",
   "metadata": {
    "scrolled": true
   },
   "outputs": [
    {
     "data": {
      "text/html": [
       "<div>\n",
       "<style scoped>\n",
       "    .dataframe tbody tr th:only-of-type {\n",
       "        vertical-align: middle;\n",
       "    }\n",
       "\n",
       "    .dataframe tbody tr th {\n",
       "        vertical-align: top;\n",
       "    }\n",
       "\n",
       "    .dataframe thead th {\n",
       "        text-align: right;\n",
       "    }\n",
       "</style>\n",
       "<table border=\"1\" class=\"dataframe\">\n",
       "  <thead>\n",
       "    <tr style=\"text-align: right;\">\n",
       "      <th></th>\n",
       "      <th>NU_INSCRICAO</th>\n",
       "      <th>TP_SEXO</th>\n",
       "      <th>TP_COR_RACA</th>\n",
       "      <th>NU_NOTA_CN</th>\n",
       "      <th>NU_NOTA_CH</th>\n",
       "      <th>NU_NOTA_LC</th>\n",
       "      <th>NU_NOTA_MT</th>\n",
       "      <th>NU_NOTA_REDACAO</th>\n",
       "      <th>MEDIA_TOTAL</th>\n",
       "    </tr>\n",
       "  </thead>\n",
       "  <tbody>\n",
       "    <tr>\n",
       "      <th>1</th>\n",
       "      <td>200001195856</td>\n",
       "      <td>Masculino</td>\n",
       "      <td>Pardo</td>\n",
       "      <td>604.1</td>\n",
       "      <td>661.7</td>\n",
       "      <td>595.3</td>\n",
       "      <td>711.3</td>\n",
       "      <td>580.0</td>\n",
       "      <td>630.48</td>\n",
       "    </tr>\n",
       "    <tr>\n",
       "      <th>3</th>\n",
       "      <td>200001908998</td>\n",
       "      <td>Masculino</td>\n",
       "      <td>Pardo</td>\n",
       "      <td>620.8</td>\n",
       "      <td>675.0</td>\n",
       "      <td>624.2</td>\n",
       "      <td>759.4</td>\n",
       "      <td>760.0</td>\n",
       "      <td>687.88</td>\n",
       "    </tr>\n",
       "    <tr>\n",
       "      <th>5</th>\n",
       "      <td>200003132410</td>\n",
       "      <td>Feminino</td>\n",
       "      <td>Pardo</td>\n",
       "      <td>498.1</td>\n",
       "      <td>604.7</td>\n",
       "      <td>505.4</td>\n",
       "      <td>526.7</td>\n",
       "      <td>700.0</td>\n",
       "      <td>566.98</td>\n",
       "    </tr>\n",
       "    <tr>\n",
       "      <th>7</th>\n",
       "      <td>200001334237</td>\n",
       "      <td>Masculino</td>\n",
       "      <td>Branco</td>\n",
       "      <td>604.6</td>\n",
       "      <td>604.8</td>\n",
       "      <td>562.1</td>\n",
       "      <td>753.2</td>\n",
       "      <td>600.0</td>\n",
       "      <td>624.94</td>\n",
       "    </tr>\n",
       "    <tr>\n",
       "      <th>8</th>\n",
       "      <td>200006762554</td>\n",
       "      <td>Feminino</td>\n",
       "      <td>Pardo</td>\n",
       "      <td>439.7</td>\n",
       "      <td>383.5</td>\n",
       "      <td>486.2</td>\n",
       "      <td>448.5</td>\n",
       "      <td>600.0</td>\n",
       "      <td>471.58</td>\n",
       "    </tr>\n",
       "    <tr>\n",
       "      <th>...</th>\n",
       "      <td>...</td>\n",
       "      <td>...</td>\n",
       "      <td>...</td>\n",
       "      <td>...</td>\n",
       "      <td>...</td>\n",
       "      <td>...</td>\n",
       "      <td>...</td>\n",
       "      <td>...</td>\n",
       "      <td>...</td>\n",
       "    </tr>\n",
       "    <tr>\n",
       "      <th>5783103</th>\n",
       "      <td>200001819135</td>\n",
       "      <td>Masculino</td>\n",
       "      <td>Branco</td>\n",
       "      <td>547.3</td>\n",
       "      <td>613.3</td>\n",
       "      <td>596.4</td>\n",
       "      <td>469.1</td>\n",
       "      <td>660.0</td>\n",
       "      <td>577.22</td>\n",
       "    </tr>\n",
       "    <tr>\n",
       "      <th>5783104</th>\n",
       "      <td>200003396891</td>\n",
       "      <td>Feminino</td>\n",
       "      <td>Branco</td>\n",
       "      <td>508.3</td>\n",
       "      <td>661.4</td>\n",
       "      <td>658.3</td>\n",
       "      <td>725.7</td>\n",
       "      <td>900.0</td>\n",
       "      <td>690.74</td>\n",
       "    </tr>\n",
       "    <tr>\n",
       "      <th>5783105</th>\n",
       "      <td>200006040822</td>\n",
       "      <td>Masculino</td>\n",
       "      <td>Branco</td>\n",
       "      <td>570.5</td>\n",
       "      <td>646.1</td>\n",
       "      <td>607.2</td>\n",
       "      <td>719.5</td>\n",
       "      <td>660.0</td>\n",
       "      <td>640.66</td>\n",
       "    </tr>\n",
       "    <tr>\n",
       "      <th>5783106</th>\n",
       "      <td>200004928656</td>\n",
       "      <td>Feminino</td>\n",
       "      <td>Branco</td>\n",
       "      <td>418.8</td>\n",
       "      <td>597.5</td>\n",
       "      <td>674.5</td>\n",
       "      <td>648.1</td>\n",
       "      <td>660.0</td>\n",
       "      <td>599.78</td>\n",
       "    </tr>\n",
       "    <tr>\n",
       "      <th>5783108</th>\n",
       "      <td>200007078230</td>\n",
       "      <td>Feminino</td>\n",
       "      <td>Pardo</td>\n",
       "      <td>478.5</td>\n",
       "      <td>625.5</td>\n",
       "      <td>538.4</td>\n",
       "      <td>481.7</td>\n",
       "      <td>380.0</td>\n",
       "      <td>500.82</td>\n",
       "    </tr>\n",
       "  </tbody>\n",
       "</table>\n",
       "<p>2762899 rows × 9 columns</p>\n",
       "</div>"
      ],
      "text/plain": [
       "         NU_INSCRICAO    TP_SEXO TP_COR_RACA  NU_NOTA_CN  NU_NOTA_CH  \\\n",
       "1        200001195856  Masculino       Pardo       604.1       661.7   \n",
       "3        200001908998  Masculino       Pardo       620.8       675.0   \n",
       "5        200003132410   Feminino       Pardo       498.1       604.7   \n",
       "7        200001334237  Masculino      Branco       604.6       604.8   \n",
       "8        200006762554   Feminino       Pardo       439.7       383.5   \n",
       "...               ...        ...         ...         ...         ...   \n",
       "5783103  200001819135  Masculino      Branco       547.3       613.3   \n",
       "5783104  200003396891   Feminino      Branco       508.3       661.4   \n",
       "5783105  200006040822  Masculino      Branco       570.5       646.1   \n",
       "5783106  200004928656   Feminino      Branco       418.8       597.5   \n",
       "5783108  200007078230   Feminino       Pardo       478.5       625.5   \n",
       "\n",
       "         NU_NOTA_LC  NU_NOTA_MT  NU_NOTA_REDACAO  MEDIA_TOTAL  \n",
       "1             595.3       711.3            580.0       630.48  \n",
       "3             624.2       759.4            760.0       687.88  \n",
       "5             505.4       526.7            700.0       566.98  \n",
       "7             562.1       753.2            600.0       624.94  \n",
       "8             486.2       448.5            600.0       471.58  \n",
       "...             ...         ...              ...          ...  \n",
       "5783103       596.4       469.1            660.0       577.22  \n",
       "5783104       658.3       725.7            900.0       690.74  \n",
       "5783105       607.2       719.5            660.0       640.66  \n",
       "5783106       674.5       648.1            660.0       599.78  \n",
       "5783108       538.4       481.7            380.0       500.82  \n",
       "\n",
       "[2762899 rows x 9 columns]"
      ]
     },
     "execution_count": 52,
     "metadata": {},
     "output_type": "execute_result"
    }
   ],
   "source": [
    "#Separando uma variavel só com usuarios Masculinos\n",
    "dfm = df2[df2['TP_SEXO']=='Masculino']\n",
    "# Renomeando números para as respectivas cores/raças\n",
    "df2['TP_COR_RACA'].replace([0], 'Não Informado(a)')\n",
    "df2['TP_COR_RACA'].replace([1], 'Branco(a)')\n",
    "df2['TP_COR_RACA'].replace([2], 'Preto(a)',inplace = True)\n",
    "df2['TP_COR_RACA'].replace([3], 'Pardo(a)',inplace = True)\n",
    "df2['TP_COR_RACA'].replace([4], 'Amarelo(a)',inplace = True)\n",
    "df2['TP_COR_RACA'].replace([5], 'Indígena(a)',inplace = True)\n",
    "df2"
   ]
  },
  {
   "cell_type": "code",
   "execution_count": 55,
   "id": "9ad81ac3",
   "metadata": {},
   "outputs": [
    {
     "data": {
      "text/html": [
       "<div>\n",
       "<style scoped>\n",
       "    .dataframe tbody tr th:only-of-type {\n",
       "        vertical-align: middle;\n",
       "    }\n",
       "\n",
       "    .dataframe tbody tr th {\n",
       "        vertical-align: top;\n",
       "    }\n",
       "\n",
       "    .dataframe thead th {\n",
       "        text-align: right;\n",
       "    }\n",
       "</style>\n",
       "<table border=\"1\" class=\"dataframe\">\n",
       "  <thead>\n",
       "    <tr style=\"text-align: right;\">\n",
       "      <th></th>\n",
       "      <th>NU_INSCRICAO</th>\n",
       "      <th>TP_SEXO</th>\n",
       "      <th>TP_COR_RACA</th>\n",
       "      <th>NU_NOTA_CN</th>\n",
       "      <th>NU_NOTA_CH</th>\n",
       "      <th>NU_NOTA_LC</th>\n",
       "      <th>NU_NOTA_MT</th>\n",
       "      <th>NU_NOTA_REDACAO</th>\n",
       "      <th>MEDIA_TOTAL</th>\n",
       "    </tr>\n",
       "  </thead>\n",
       "  <tbody>\n",
       "    <tr>\n",
       "      <th>1</th>\n",
       "      <td>200001195856</td>\n",
       "      <td>Masculino</td>\n",
       "      <td>Pardo</td>\n",
       "      <td>604.1</td>\n",
       "      <td>661.7</td>\n",
       "      <td>595.3</td>\n",
       "      <td>711.3</td>\n",
       "      <td>580.0</td>\n",
       "      <td>630.48</td>\n",
       "    </tr>\n",
       "    <tr>\n",
       "      <th>3</th>\n",
       "      <td>200001908998</td>\n",
       "      <td>Masculino</td>\n",
       "      <td>Pardo</td>\n",
       "      <td>620.8</td>\n",
       "      <td>675.0</td>\n",
       "      <td>624.2</td>\n",
       "      <td>759.4</td>\n",
       "      <td>760.0</td>\n",
       "      <td>687.88</td>\n",
       "    </tr>\n",
       "    <tr>\n",
       "      <th>7</th>\n",
       "      <td>200001334237</td>\n",
       "      <td>Masculino</td>\n",
       "      <td>Branco</td>\n",
       "      <td>604.6</td>\n",
       "      <td>604.8</td>\n",
       "      <td>562.1</td>\n",
       "      <td>753.2</td>\n",
       "      <td>600.0</td>\n",
       "      <td>624.94</td>\n",
       "    </tr>\n",
       "    <tr>\n",
       "      <th>11</th>\n",
       "      <td>200006138472</td>\n",
       "      <td>Masculino</td>\n",
       "      <td>Branco</td>\n",
       "      <td>491.1</td>\n",
       "      <td>631.4</td>\n",
       "      <td>627.9</td>\n",
       "      <td>546.5</td>\n",
       "      <td>640.0</td>\n",
       "      <td>587.38</td>\n",
       "    </tr>\n",
       "    <tr>\n",
       "      <th>19</th>\n",
       "      <td>200005966328</td>\n",
       "      <td>Masculino</td>\n",
       "      <td>Preto</td>\n",
       "      <td>486.0</td>\n",
       "      <td>503.3</td>\n",
       "      <td>439.8</td>\n",
       "      <td>405.6</td>\n",
       "      <td>500.0</td>\n",
       "      <td>466.94</td>\n",
       "    </tr>\n",
       "    <tr>\n",
       "      <th>...</th>\n",
       "      <td>...</td>\n",
       "      <td>...</td>\n",
       "      <td>...</td>\n",
       "      <td>...</td>\n",
       "      <td>...</td>\n",
       "      <td>...</td>\n",
       "      <td>...</td>\n",
       "      <td>...</td>\n",
       "      <td>...</td>\n",
       "    </tr>\n",
       "    <tr>\n",
       "      <th>5783051</th>\n",
       "      <td>200003314548</td>\n",
       "      <td>Masculino</td>\n",
       "      <td>Branco</td>\n",
       "      <td>654.3</td>\n",
       "      <td>679.4</td>\n",
       "      <td>632.4</td>\n",
       "      <td>824.7</td>\n",
       "      <td>880.0</td>\n",
       "      <td>734.16</td>\n",
       "    </tr>\n",
       "    <tr>\n",
       "      <th>5783084</th>\n",
       "      <td>200006585396</td>\n",
       "      <td>Masculino</td>\n",
       "      <td>Pardo</td>\n",
       "      <td>377.6</td>\n",
       "      <td>404.8</td>\n",
       "      <td>415.8</td>\n",
       "      <td>411.4</td>\n",
       "      <td>340.0</td>\n",
       "      <td>389.92</td>\n",
       "    </tr>\n",
       "    <tr>\n",
       "      <th>5783090</th>\n",
       "      <td>200004641423</td>\n",
       "      <td>Masculino</td>\n",
       "      <td>Branco</td>\n",
       "      <td>NaN</td>\n",
       "      <td>518.4</td>\n",
       "      <td>513.8</td>\n",
       "      <td>NaN</td>\n",
       "      <td>0.0</td>\n",
       "      <td>NaN</td>\n",
       "    </tr>\n",
       "    <tr>\n",
       "      <th>5783103</th>\n",
       "      <td>200001819135</td>\n",
       "      <td>Masculino</td>\n",
       "      <td>Branco</td>\n",
       "      <td>547.3</td>\n",
       "      <td>613.3</td>\n",
       "      <td>596.4</td>\n",
       "      <td>469.1</td>\n",
       "      <td>660.0</td>\n",
       "      <td>577.22</td>\n",
       "    </tr>\n",
       "    <tr>\n",
       "      <th>5783105</th>\n",
       "      <td>200006040822</td>\n",
       "      <td>Masculino</td>\n",
       "      <td>Branco</td>\n",
       "      <td>570.5</td>\n",
       "      <td>646.1</td>\n",
       "      <td>607.2</td>\n",
       "      <td>719.5</td>\n",
       "      <td>660.0</td>\n",
       "      <td>640.66</td>\n",
       "    </tr>\n",
       "  </tbody>\n",
       "</table>\n",
       "<p>1094645 rows × 9 columns</p>\n",
       "</div>"
      ],
      "text/plain": [
       "         NU_INSCRICAO    TP_SEXO TP_COR_RACA  NU_NOTA_CN  NU_NOTA_CH  \\\n",
       "1        200001195856  Masculino       Pardo       604.1       661.7   \n",
       "3        200001908998  Masculino       Pardo       620.8       675.0   \n",
       "7        200001334237  Masculino      Branco       604.6       604.8   \n",
       "11       200006138472  Masculino      Branco       491.1       631.4   \n",
       "19       200005966328  Masculino       Preto       486.0       503.3   \n",
       "...               ...        ...         ...         ...         ...   \n",
       "5783051  200003314548  Masculino      Branco       654.3       679.4   \n",
       "5783084  200006585396  Masculino       Pardo       377.6       404.8   \n",
       "5783090  200004641423  Masculino      Branco         NaN       518.4   \n",
       "5783103  200001819135  Masculino      Branco       547.3       613.3   \n",
       "5783105  200006040822  Masculino      Branco       570.5       646.1   \n",
       "\n",
       "         NU_NOTA_LC  NU_NOTA_MT  NU_NOTA_REDACAO  MEDIA_TOTAL  \n",
       "1             595.3       711.3            580.0       630.48  \n",
       "3             624.2       759.4            760.0       687.88  \n",
       "7             562.1       753.2            600.0       624.94  \n",
       "11            627.9       546.5            640.0       587.38  \n",
       "19            439.8       405.6            500.0       466.94  \n",
       "...             ...         ...              ...          ...  \n",
       "5783051       632.4       824.7            880.0       734.16  \n",
       "5783084       415.8       411.4            340.0       389.92  \n",
       "5783090       513.8         NaN              0.0          NaN  \n",
       "5783103       596.4       469.1            660.0       577.22  \n",
       "5783105       607.2       719.5            660.0       640.66  \n",
       "\n",
       "[1094645 rows x 9 columns]"
      ]
     },
     "execution_count": 55,
     "metadata": {},
     "output_type": "execute_result"
    }
   ],
   "source": [
    "dfm = df2[df2['TP_SEXO']=='Masculino']\n",
    "dfm"
   ]
  },
  {
   "cell_type": "code",
   "execution_count": 47,
   "id": "20e28a3c",
   "metadata": {},
   "outputs": [
    {
     "name": "stdout",
     "output_type": "stream",
     "text": [
      "Pardo            488066\n",
      "Branco           418547\n",
      "Preto            140027\n",
      "Não Informado     21686\n",
      "Amarelo           19974\n",
      "Indígena           6345\n",
      "Name: TP_COR_RACA, dtype: int64\n"
     ]
    }
   ],
   "source": [
    "frequencia_m = dfm['TP_COR_RACA'].value_counts()\n",
    "print(frequencia_m)"
   ]
  },
  {
   "cell_type": "markdown",
   "id": "48d58146",
   "metadata": {},
   "source": [
    "### Grafico da média total\n",
    "O grafico a baixo mostra a média da nota de Redação de pessoas de cor/raça autodeclarados masculinas, nota-se que as pessoas brancas tiveram a média maior.\n",
    "OBSERVAÇÃO:Prestar atenção na diferença de participantes de determinada cor/raça que fizeram a prova."
   ]
  },
  {
   "cell_type": "code",
   "execution_count": 48,
   "id": "ccda7e84",
   "metadata": {},
   "outputs": [
    {
     "data": {
      "image/png": "[encoded data removed]",
      "text/plain": [
       "<Figure size 432x288 with 1 Axes>"
      ]
     },
     "metadata": {
      "needs_background": "light"
     },
     "output_type": "display_data"
    }
   ],
   "source": [
    "grafico7 = sns.barplot(x = dfm['TP_COR_RACA'], y = dfm['MEDIA_TOTAL'], estimator = np.mean, data = dfm)"
   ]
  },
  {
   "cell_type": "markdown",
   "id": "60bc8666",
   "metadata": {},
   "source": [
    "### Grafico das notas em Ciências da Natureza\n",
    "O grafico a baixo mostra a média da nota de ciências da natureza das pessoas de cor/raça autodeclarados masculinas, nota-se que as pessoas brancas tiveram a média maior.\n",
    "OBSERVAÇÃO:Prestar atenção na diferença de participantes de determinada cor/raça que fizeram a prova."
   ]
  },
  {
   "cell_type": "code",
   "execution_count": 27,
   "id": "844cf7a4",
   "metadata": {},
   "outputs": [
    {
     "data": {
      "image/png": "[encoded data removed]",
      "text/plain": [
       "<Figure size 432x288 with 1 Axes>"
      ]
     },
     "metadata": {
      "needs_background": "light"
     },
     "output_type": "display_data"
    }
   ],
   "source": [
    "grafico8 = sns.barplot(x = dfm['TP_COR_RACA'], y = dfm['NU_NOTA_CN'], estimator = np.mean, data = dfm)"
   ]
  },
  {
   "cell_type": "markdown",
   "id": "e4fa58a0",
   "metadata": {},
   "source": [
    "### Grafico das notas em Ciências Humanas\n",
    "O grafico a baixo mostra a média da nota de Ciências Humanas de pessoas de cor/raça autodeclarados masculinas, nota-se que as pessoas brancas tiveram a média maior.\n",
    "OBSERVAÇÃO:Prestar atenção na diferença de participantes de determinada cor/raça que fizeram a prova."
   ]
  },
  {
   "cell_type": "code",
   "execution_count": 28,
   "id": "ef011e40",
   "metadata": {},
   "outputs": [
    {
     "data": {
      "image/png": "[encoded data removed]",
      "text/plain": [
       "<Figure size 432x288 with 1 Axes>"
      ]
     },
     "metadata": {
      "needs_background": "light"
     },
     "output_type": "display_data"
    }
   ],
   "source": [
    "grafico9 = sns.barplot(x = dfm['TP_COR_RACA'], y = dfm['NU_NOTA_CH'], estimator = np.mean, data = dfm)"
   ]
  },
  {
   "cell_type": "markdown",
   "id": "f86b7418",
   "metadata": {},
   "source": [
    "### Grafico das notas em Linguagens e Códigos\n",
    "O grafico a baixo mostra a média da nota de Linguagens e Códigos de pessoas de cor/raça autodeclarados masculinas, nota-se que as pessoas brancas tiveram a média maior.\n",
    "OBSERVAÇÃO:Prestar atenção na diferença de participantes de determinada cor/raça que fizeram a prova."
   ]
  },
  {
   "cell_type": "code",
   "execution_count": 29,
   "id": "337c82b4",
   "metadata": {},
   "outputs": [
    {
     "data": {
      "image/png": "[encoded data removed]",
      "text/plain": [
       "<Figure size 432x288 with 1 Axes>"
      ]
     },
     "metadata": {
      "needs_background": "light"
     },
     "output_type": "display_data"
    }
   ],
   "source": [
    "grafico10 = sns.barplot(x = dfm['TP_COR_RACA'], y = dfm['NU_NOTA_LC'], estimator = np.mean, data = dfm)"
   ]
  },
  {
   "cell_type": "markdown",
   "id": "879c3971",
   "metadata": {},
   "source": [
    "### Gráfico das notas em Matemática\n",
    "O grafico a baixo mostra a média da nota de Matemática de pessoas de cor/raça autodeclarados masculinas, nota-se que as pessoas brancas tiveram a média maior.\n",
    "OBSERVAÇÃO:Prestar atenção na diferença de participantes de determinada cor/raça que fizeram a prova."
   ]
  },
  {
   "cell_type": "code",
   "execution_count": 30,
   "id": "5f956757",
   "metadata": {},
   "outputs": [
    {
     "data": {
      "image/png": "[encoded data removed]",
      "text/plain": [
       "<Figure size 432x288 with 1 Axes>"
      ]
     },
     "metadata": {
      "needs_background": "light"
     },
     "output_type": "display_data"
    }
   ],
   "source": [
    "grafico11 = sns.barplot(x = dfm['TP_COR_RACA'], y = dfm['NU_NOTA_MT'], estimator = np.mean, data = dfm)"
   ]
  },
  {
   "cell_type": "markdown",
   "id": "7e40761e",
   "metadata": {},
   "source": [
    "### Gráfico das notas em Redação\n",
    "O grafico a baixo mostra a média da nota de Redação de pessoas de cor/raça autodeclarados masculinas, nota-se que as pessoas brancas tiveram a média maior.\n",
    "OBSERVAÇÃO:Prestar atenção na diferença de participantes de determinada cor/raça que fizeram a prova."
   ]
  },
  {
   "cell_type": "code",
   "execution_count": 31,
   "id": "8d169f23",
   "metadata": {},
   "outputs": [
    {
     "data": {
      "image/png": "[encoded data removed]",
      "text/plain": [
       "<Figure size 432x288 with 1 Axes>"
      ]
     },
     "metadata": {
      "needs_background": "light"
     },
     "output_type": "display_data"
    }
   ],
   "source": [
    "grafico12 = sns.barplot(x = dfm['TP_COR_RACA'], y = dfm['NU_NOTA_REDACAO'], estimator = np.mean, data = dfm)"
   ]
  },
  {
   "cell_type": "markdown",
   "id": "a3de8701",
   "metadata": {},
   "source": [
    "## Comparando a média das notas de mulheres:Não Informado(0), Branco(1), Preto(2), Parda(3), Amarela(4) e Indígena(5)."
   ]
  },
  {
   "cell_type": "code",
   "execution_count": 49,
   "id": "2f10bf6e",
   "metadata": {},
   "outputs": [
    {
     "name": "stdout",
     "output_type": "stream",
     "text": [
      "Series([], Name: TP_COR_RACA, dtype: int64)\n"
     ]
    }
   ],
   "source": [
    "#Separando uma variavel só com usuarios Femininas\n",
    "dff = df2[df2['TP_SEXO']=='F']\n",
    "frequencia_f = dff['TP_COR_RACA'].value_counts(ascending=False)\n",
    "print(frequencia_f)\n",
    "#Quantidade de participantes de cada cor/raça"
   ]
  },
  {
   "cell_type": "markdown",
   "id": "bcdb5d2f",
   "metadata": {},
   "source": [
    "### Grafico da média total\n",
    "O grafico a baixo mostra a média da nota de Redação de pessoas de cor/raça autodeclarados femininas, nota-se que as pessoas brancas tiveram a média maior.\n",
    "OBSERVAÇÃO:Prestar atenção na diferença de participantes de determinada cor/raça que fizeram a prova."
   ]
  },
  {
   "cell_type": "code",
   "execution_count": 50,
   "id": "af4c6bc5",
   "metadata": {},
   "outputs": [
    {
     "ename": "ValueError",
     "evalue": "The truth value of a Series is ambiguous. Use a.empty, a.bool(), a.item(), a.any() or a.all().",
     "output_type": "error",
     "traceback": [
      "\u001b[1;31m---------------------------------------------------------------------------\u001b[0m",
      "\u001b[1;31mValueError\u001b[0m                                Traceback (most recent call last)",
      "\u001b[1;32m~\\AppData\\Local\\Temp/ipykernel_2200/2735392715.py\u001b[0m in \u001b[0;36m<module>\u001b[1;34m\u001b[0m\n\u001b[1;32m----> 1\u001b[1;33m \u001b[0mgrafico13\u001b[0m \u001b[1;33m=\u001b[0m \u001b[0msns\u001b[0m\u001b[1;33m.\u001b[0m\u001b[0mbarplot\u001b[0m\u001b[1;33m(\u001b[0m\u001b[0mx\u001b[0m \u001b[1;33m=\u001b[0m \u001b[0mdff\u001b[0m\u001b[1;33m[\u001b[0m\u001b[1;34m'TP_COR_RACA'\u001b[0m\u001b[1;33m]\u001b[0m\u001b[1;33m,\u001b[0m \u001b[0my\u001b[0m \u001b[1;33m=\u001b[0m \u001b[0mdff\u001b[0m\u001b[1;33m[\u001b[0m\u001b[1;34m'MEDIA_TOTAL'\u001b[0m\u001b[1;33m]\u001b[0m\u001b[1;33m,\u001b[0m \u001b[0mestimator\u001b[0m \u001b[1;33m=\u001b[0m \u001b[0mnp\u001b[0m\u001b[1;33m.\u001b[0m\u001b[0mmean\u001b[0m\u001b[1;33m,\u001b[0m \u001b[0mdata\u001b[0m \u001b[1;33m=\u001b[0m \u001b[0mdff\u001b[0m\u001b[1;33m)\u001b[0m\u001b[1;33m\u001b[0m\u001b[1;33m\u001b[0m\u001b[0m\n\u001b[0m",
      "\u001b[1;32m~\\anaconda3\\lib\\site-packages\\seaborn\\_decorators.py\u001b[0m in \u001b[0;36minner_f\u001b[1;34m(*args, **kwargs)\u001b[0m\n\u001b[0;32m     44\u001b[0m             )\n\u001b[0;32m     45\u001b[0m         \u001b[0mkwargs\u001b[0m\u001b[1;33m.\u001b[0m\u001b[0mupdate\u001b[0m\u001b[1;33m(\u001b[0m\u001b[1;33m{\u001b[0m\u001b[0mk\u001b[0m\u001b[1;33m:\u001b[0m \u001b[0marg\u001b[0m \u001b[1;32mfor\u001b[0m \u001b[0mk\u001b[0m\u001b[1;33m,\u001b[0m \u001b[0marg\u001b[0m \u001b[1;32min\u001b[0m \u001b[0mzip\u001b[0m\u001b[1;33m(\u001b[0m\u001b[0msig\u001b[0m\u001b[1;33m.\u001b[0m\u001b[0mparameters\u001b[0m\u001b[1;33m,\u001b[0m \u001b[0margs\u001b[0m\u001b[1;33m)\u001b[0m\u001b[1;33m}\u001b[0m\u001b[1;33m)\u001b[0m\u001b[1;33m\u001b[0m\u001b[1;33m\u001b[0m\u001b[0m\n\u001b[1;32m---> 46\u001b[1;33m         \u001b[1;32mreturn\u001b[0m \u001b[0mf\u001b[0m\u001b[1;33m(\u001b[0m\u001b[1;33m**\u001b[0m\u001b[0mkwargs\u001b[0m\u001b[1;33m)\u001b[0m\u001b[1;33m\u001b[0m\u001b[1;33m\u001b[0m\u001b[0m\n\u001b[0m\u001b[0;32m     47\u001b[0m     \u001b[1;32mreturn\u001b[0m \u001b[0minner_f\u001b[0m\u001b[1;33m\u001b[0m\u001b[1;33m\u001b[0m\u001b[0m\n\u001b[0;32m     48\u001b[0m \u001b[1;33m\u001b[0m\u001b[0m\n",
      "\u001b[1;32m~\\anaconda3\\lib\\site-packages\\seaborn\\categorical.py\u001b[0m in \u001b[0;36mbarplot\u001b[1;34m(x, y, hue, data, order, hue_order, estimator, ci, n_boot, units, seed, orient, color, palette, saturation, errcolor, errwidth, capsize, dodge, ax, **kwargs)\u001b[0m\n\u001b[0;32m   3180\u001b[0m ):\n\u001b[0;32m   3181\u001b[0m \u001b[1;33m\u001b[0m\u001b[0m\n\u001b[1;32m-> 3182\u001b[1;33m     plotter = _BarPlotter(x, y, hue, data, order, hue_order,\n\u001b[0m\u001b[0;32m   3183\u001b[0m                           \u001b[0mestimator\u001b[0m\u001b[1;33m,\u001b[0m \u001b[0mci\u001b[0m\u001b[1;33m,\u001b[0m \u001b[0mn_boot\u001b[0m\u001b[1;33m,\u001b[0m \u001b[0munits\u001b[0m\u001b[1;33m,\u001b[0m \u001b[0mseed\u001b[0m\u001b[1;33m,\u001b[0m\u001b[1;33m\u001b[0m\u001b[1;33m\u001b[0m\u001b[0m\n\u001b[0;32m   3184\u001b[0m                           \u001b[0morient\u001b[0m\u001b[1;33m,\u001b[0m \u001b[0mcolor\u001b[0m\u001b[1;33m,\u001b[0m \u001b[0mpalette\u001b[0m\u001b[1;33m,\u001b[0m \u001b[0msaturation\u001b[0m\u001b[1;33m,\u001b[0m\u001b[1;33m\u001b[0m\u001b[1;33m\u001b[0m\u001b[0m\n",
      "\u001b[1;32m~\\anaconda3\\lib\\site-packages\\seaborn\\categorical.py\u001b[0m in \u001b[0;36m__init__\u001b[1;34m(self, x, y, hue, data, order, hue_order, estimator, ci, n_boot, units, seed, orient, color, palette, saturation, errcolor, errwidth, capsize, dodge)\u001b[0m\n\u001b[0;32m   1582\u001b[0m                  errwidth, capsize, dodge):\n\u001b[0;32m   1583\u001b[0m         \u001b[1;34m\"\"\"Initialize the plotter.\"\"\"\u001b[0m\u001b[1;33m\u001b[0m\u001b[1;33m\u001b[0m\u001b[0m\n\u001b[1;32m-> 1584\u001b[1;33m         self.establish_variables(x, y, hue, data, orient,\n\u001b[0m\u001b[0;32m   1585\u001b[0m                                  order, hue_order, units)\n\u001b[0;32m   1586\u001b[0m         \u001b[0mself\u001b[0m\u001b[1;33m.\u001b[0m\u001b[0mestablish_colors\u001b[0m\u001b[1;33m(\u001b[0m\u001b[0mcolor\u001b[0m\u001b[1;33m,\u001b[0m \u001b[0mpalette\u001b[0m\u001b[1;33m,\u001b[0m \u001b[0msaturation\u001b[0m\u001b[1;33m)\u001b[0m\u001b[1;33m\u001b[0m\u001b[1;33m\u001b[0m\u001b[0m\n",
      "\u001b[1;32m~\\anaconda3\\lib\\site-packages\\seaborn\\categorical.py\u001b[0m in \u001b[0;36mestablish_variables\u001b[1;34m(self, x, y, hue, data, orient, order, hue_order, units)\u001b[0m\n\u001b[0;32m    154\u001b[0m \u001b[1;33m\u001b[0m\u001b[0m\n\u001b[0;32m    155\u001b[0m             \u001b[1;31m# Figure out the plotting orientation\u001b[0m\u001b[1;33m\u001b[0m\u001b[1;33m\u001b[0m\u001b[0m\n\u001b[1;32m--> 156\u001b[1;33m             orient = infer_orient(\n\u001b[0m\u001b[0;32m    157\u001b[0m                 \u001b[0mx\u001b[0m\u001b[1;33m,\u001b[0m \u001b[0my\u001b[0m\u001b[1;33m,\u001b[0m \u001b[0morient\u001b[0m\u001b[1;33m,\u001b[0m \u001b[0mrequire_numeric\u001b[0m\u001b[1;33m=\u001b[0m\u001b[0mself\u001b[0m\u001b[1;33m.\u001b[0m\u001b[0mrequire_numeric\u001b[0m\u001b[1;33m\u001b[0m\u001b[1;33m\u001b[0m\u001b[0m\n\u001b[0;32m    158\u001b[0m             )\n",
      "\u001b[1;32m~\\anaconda3\\lib\\site-packages\\seaborn\\_core.py\u001b[0m in \u001b[0;36minfer_orient\u001b[1;34m(x, y, orient, require_numeric)\u001b[0m\n\u001b[0;32m   1309\u001b[0m     \"\"\"\n\u001b[0;32m   1310\u001b[0m \u001b[1;33m\u001b[0m\u001b[0m\n\u001b[1;32m-> 1311\u001b[1;33m     \u001b[0mx_type\u001b[0m \u001b[1;33m=\u001b[0m \u001b[1;32mNone\u001b[0m \u001b[1;32mif\u001b[0m \u001b[0mx\u001b[0m \u001b[1;32mis\u001b[0m \u001b[1;32mNone\u001b[0m \u001b[1;32melse\u001b[0m \u001b[0mvariable_type\u001b[0m\u001b[1;33m(\u001b[0m\u001b[0mx\u001b[0m\u001b[1;33m)\u001b[0m\u001b[1;33m\u001b[0m\u001b[1;33m\u001b[0m\u001b[0m\n\u001b[0m\u001b[0;32m   1312\u001b[0m     \u001b[0my_type\u001b[0m \u001b[1;33m=\u001b[0m \u001b[1;32mNone\u001b[0m \u001b[1;32mif\u001b[0m \u001b[0my\u001b[0m \u001b[1;32mis\u001b[0m \u001b[1;32mNone\u001b[0m \u001b[1;32melse\u001b[0m \u001b[0mvariable_type\u001b[0m\u001b[1;33m(\u001b[0m\u001b[0my\u001b[0m\u001b[1;33m)\u001b[0m\u001b[1;33m\u001b[0m\u001b[1;33m\u001b[0m\u001b[0m\n\u001b[0;32m   1313\u001b[0m \u001b[1;33m\u001b[0m\u001b[0m\n",
      "\u001b[1;32m~\\anaconda3\\lib\\site-packages\\seaborn\\_core.py\u001b[0m in \u001b[0;36mvariable_type\u001b[1;34m(vector, boolean_type)\u001b[0m\n\u001b[0;32m   1227\u001b[0m \u001b[1;33m\u001b[0m\u001b[0m\n\u001b[0;32m   1228\u001b[0m     \u001b[1;31m# Special-case all-na data, which is always \"numeric\"\u001b[0m\u001b[1;33m\u001b[0m\u001b[1;33m\u001b[0m\u001b[0m\n\u001b[1;32m-> 1229\u001b[1;33m     \u001b[1;32mif\u001b[0m \u001b[0mpd\u001b[0m\u001b[1;33m.\u001b[0m\u001b[0misna\u001b[0m\u001b[1;33m(\u001b[0m\u001b[0mvector\u001b[0m\u001b[1;33m)\u001b[0m\u001b[1;33m.\u001b[0m\u001b[0mall\u001b[0m\u001b[1;33m(\u001b[0m\u001b[1;33m)\u001b[0m\u001b[1;33m:\u001b[0m\u001b[1;33m\u001b[0m\u001b[1;33m\u001b[0m\u001b[0m\n\u001b[0m\u001b[0;32m   1230\u001b[0m         \u001b[1;32mreturn\u001b[0m \u001b[1;34m\"numeric\"\u001b[0m\u001b[1;33m\u001b[0m\u001b[1;33m\u001b[0m\u001b[0m\n\u001b[0;32m   1231\u001b[0m \u001b[1;33m\u001b[0m\u001b[0m\n",
      "\u001b[1;32m~\\anaconda3\\lib\\site-packages\\pandas\\core\\generic.py\u001b[0m in \u001b[0;36m__nonzero__\u001b[1;34m(self)\u001b[0m\n\u001b[0;32m   1535\u001b[0m     \u001b[1;33m@\u001b[0m\u001b[0mfinal\u001b[0m\u001b[1;33m\u001b[0m\u001b[1;33m\u001b[0m\u001b[0m\n\u001b[0;32m   1536\u001b[0m     \u001b[1;32mdef\u001b[0m \u001b[0m__nonzero__\u001b[0m\u001b[1;33m(\u001b[0m\u001b[0mself\u001b[0m\u001b[1;33m)\u001b[0m\u001b[1;33m:\u001b[0m\u001b[1;33m\u001b[0m\u001b[1;33m\u001b[0m\u001b[0m\n\u001b[1;32m-> 1537\u001b[1;33m         raise ValueError(\n\u001b[0m\u001b[0;32m   1538\u001b[0m             \u001b[1;34mf\"The truth value of a {type(self).__name__} is ambiguous. \"\u001b[0m\u001b[1;33m\u001b[0m\u001b[1;33m\u001b[0m\u001b[0m\n\u001b[0;32m   1539\u001b[0m             \u001b[1;34m\"Use a.empty, a.bool(), a.item(), a.any() or a.all().\"\u001b[0m\u001b[1;33m\u001b[0m\u001b[1;33m\u001b[0m\u001b[0m\n",
      "\u001b[1;31mValueError\u001b[0m: The truth value of a Series is ambiguous. Use a.empty, a.bool(), a.item(), a.any() or a.all()."
     ]
    }
   ],
   "source": [
    "grafico13 = sns.barplot(x = dff['TP_COR_RACA'], y = dff['MEDIA_TOTAL'], estimator = np.mean, data = dff)"
   ]
  },
  {
   "cell_type": "markdown",
   "id": "fe70282f",
   "metadata": {},
   "source": [
    "### Grafico das notas em Ciências da Natureza\n",
    "O grafico a baixo mostra a média da nota de Redação de pessoas de cor/raça autodeclarados femininas, nota-se que as pessoas brancas tiveram a média maior.\n",
    "OBSERVAÇÃO:Prestar atenção na diferença de participantes de determinada cor/raça que fizeram a prova."
   ]
  },
  {
   "cell_type": "code",
   "execution_count": 34,
   "id": "7843549a",
   "metadata": {},
   "outputs": [
    {
     "data": {
      "image/png": "[encoded data removed]",
      "text/plain": [
       "<Figure size 432x288 with 1 Axes>"
      ]
     },
     "metadata": {
      "needs_background": "light"
     },
     "output_type": "display_data"
    }
   ],
   "source": [
    "grafico14 = sns.barplot(x = dff['TP_COR_RACA'], y = dff['NU_NOTA_CN'], estimator = np.mean, data = dff)"
   ]
  },
  {
   "cell_type": "markdown",
   "id": "509ab35e",
   "metadata": {},
   "source": [
    "### Grafico das notas em Ciências Humanas\n",
    "O grafico a baixo mostra a média da nota de Redação de pessoas de cor/raça autodeclarados femininas, nota-se que as pessoas brancas tiveram a média maior.\n",
    "OBSERVAÇÃO:Prestar atenção na diferença de participantes de determinada cor/raça que fizeram a prova."
   ]
  },
  {
   "cell_type": "code",
   "execution_count": 35,
   "id": "0ac3b8fc",
   "metadata": {},
   "outputs": [
    {
     "data": {
      "image/png": "[encoded data removed]",
      "text/plain": [
       "<Figure size 432x288 with 1 Axes>"
      ]
     },
     "metadata": {
      "needs_background": "light"
     },
     "output_type": "display_data"
    }
   ],
   "source": [
    "grafico15 = sns.barplot(x = dff['TP_COR_RACA'], y = dff['NU_NOTA_CH'], estimator = np.mean, data = dff)"
   ]
  },
  {
   "cell_type": "markdown",
   "id": "803cc04b",
   "metadata": {},
   "source": [
    "### Grafico das notas em Linguagens e Códigos\n",
    "O grafico a baixo mostra a média da nota de Redação de pessoas de cor/raça autodeclarados femininas, nota-se que as pessoas brancas tiveram a média maior.\n",
    "OBSERVAÇÃO:Prestar atenção na diferença de participantes de determinada cor/raça que fizeram a prova."
   ]
  },
  {
   "cell_type": "code",
   "execution_count": 36,
   "id": "fc878b42",
   "metadata": {},
   "outputs": [
    {
     "data": {
      "image/png": "[encoded data removed]",
      "text/plain": [
       "<Figure size 432x288 with 1 Axes>"
      ]
     },
     "metadata": {
      "needs_background": "light"
     },
     "output_type": "display_data"
    }
   ],
   "source": [
    "grafico16 = sns.barplot(x = dff['TP_COR_RACA'], y = dff['NU_NOTA_LC'], estimator = np.mean, data = dff)"
   ]
  },
  {
   "cell_type": "markdown",
   "id": "a3d8489d",
   "metadata": {},
   "source": [
    "### Gráfico das notas em Matemática\n",
    "O grafico a baixo mostra a média da nota de Redação de pessoas de cor/raça autodeclarados femininas, nota-se que as pessoas brancas tiveram a média maior.\n",
    "OBSERVAÇÃO:Prestar atenção na diferença de participantes de determinada cor/raça que fizeram a prova."
   ]
  },
  {
   "cell_type": "code",
   "execution_count": 37,
   "id": "c6e73126",
   "metadata": {},
   "outputs": [
    {
     "data": {
      "image/png": "[encoded data removed]",
      "text/plain": [
       "<Figure size 432x288 with 1 Axes>"
      ]
     },
     "metadata": {
      "needs_background": "light"
     },
     "output_type": "display_data"
    }
   ],
   "source": [
    "grafico17 = sns.barplot(x = dff['TP_COR_RACA'], y = dff['NU_NOTA_MT'], estimator = np.mean, data = dff)"
   ]
  },
  {
   "cell_type": "markdown",
   "id": "fc86e187",
   "metadata": {},
   "source": [
    "### Gráfico das notas em Redação\n",
    "O grafico a baixo mostra a média da nota de Redação de pessoas de cor/raça autodeclarados femininas, nota-se que as pessoas brancas tiveram a média maior.\n",
    "OBSERVAÇÃO:Prestar atenção na diferença de participantes de determinada cor/raça que fizeram a prova."
   ]
  },
  {
   "cell_type": "code",
   "execution_count": 38,
   "id": "e12a862a",
   "metadata": {},
   "outputs": [
    {
     "data": {
      "image/png": "[encoded data removed]",
      "text/plain": [
       "<Figure size 432x288 with 1 Axes>"
      ]
     },
     "metadata": {
      "needs_background": "light"
     },
     "output_type": "display_data"
    }
   ],
   "source": [
    "grafico18 = sns.barplot(x = dff['TP_COR_RACA'], y = dff['NU_NOTA_REDACAO'], estimator = np.mean, data = dff)"
   ]
  },
  {
   "cell_type": "code",
   "execution_count": null,
   "id": "e01d9f22",
   "metadata": {},
   "outputs": [],
   "source": []
  },
  {
   "cell_type": "code",
   "execution_count": null,
   "id": "e21103ce",
   "metadata": {},
   "outputs": [],
   "source": []
  },
  {
   "cell_type": "code",
   "execution_count": null,
   "id": "e1d2d9da",
   "metadata": {},
   "outputs": [],
   "source": []
  },
  {
   "cell_type": "code",
   "execution_count": null,
   "id": "cc5d1412",
   "metadata": {},
   "outputs": [],
   "source": []
  },
  {
   "cell_type": "code",
   "execution_count": null,
   "id": "10e7669e",
   "metadata": {},
   "outputs": [],
   "source": []
  },
  {
   "cell_type": "code",
   "execution_count": null,
   "id": "b2a0bd44",
   "metadata": {},
   "outputs": [],
   "source": []
  }
 ],
 "metadata": {
  "kernelspec": {
   "display_name": "Python 3 (ipykernel)",
   "language": "python",
   "name": "python3"
  },
  "language_info": {
   "codemirror_mode": {
    "name": "ipython",
    "version": 3
   },
   "file_extension": ".py",
   "mimetype": "text/x-python",
   "name": "python",
   "nbconvert_exporter": "python",
   "pygments_lexer": "ipython3",
   "version": "3.9.7"
  }
 },
 "nbformat": 4,
 "nbformat_minor": 5
}
